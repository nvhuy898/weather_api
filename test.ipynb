{
 "cells": [
  {
   "cell_type": "code",
   "execution_count": 61,
   "metadata": {},
   "outputs": [],
   "source": [
    "import pandas as pd\n"
   ]
  },
  {
   "cell_type": "code",
   "execution_count": 62,
   "metadata": {},
   "outputs": [
    {
     "data": {
      "text/plain": [
       "{'ID': 1835848,\n",
       " 'ten': 'seoul',\n",
       " 'quoc_gia': 'KR',\n",
       " 'kinh_do': 126.9778,\n",
       " 'vi_do': 37.5683,\n",
       " 'thoi_gian': 'Wed Apr 13 22:02:47 2022',\n",
       " 'nhiet_do': 11.34,\n",
       " 'do_am': 50,\n",
       " 'ap_suat': 1017,\n",
       " 'huong_gio': 100,\n",
       " 'toc_do_gio': 6.69}"
      ]
     },
     "execution_count": 62,
     "metadata": {},
     "output_type": "execute_result"
    }
   ],
   "source": [
    "df=pd.read_csv('weather.csv',index_col=None)\n",
    "kq=df.to_dict('records')[-1]\n",
    "kq"
   ]
  },
  {
   "cell_type": "code",
   "execution_count": 63,
   "metadata": {},
   "outputs": [
    {
     "data": {
      "text/plain": [
       "17"
      ]
     },
     "execution_count": 63,
     "metadata": {},
     "output_type": "execute_result"
    }
   ],
   "source": [
    "t=df.loc[df.ten=='hue']\n",
    "len(t)"
   ]
  },
  {
   "cell_type": "code",
   "execution_count": 7,
   "metadata": {},
   "outputs": [],
   "source": [
    "df.thoi_gian=pd.to_datetime(df.thoi_gian)"
   ]
  },
  {
   "cell_type": "code",
   "execution_count": 64,
   "metadata": {},
   "outputs": [
    {
     "data": {
      "text/plain": [
       "1580240"
      ]
     },
     "execution_count": 64,
     "metadata": {},
     "output_type": "execute_result"
    }
   ],
   "source": [
    "data=df.loc[df.ten=='hue'][-10:]\n",
    "data.ID.unique()[0]"
   ]
  },
  {
   "cell_type": "code",
   "execution_count": 65,
   "metadata": {},
   "outputs": [],
   "source": [
    "def get_data_to_web(city):\n",
    "    data=df.loc[df.ten==city][-10:]\n",
    "    kq={\n",
    "    \"ID\": data.ID.unique()[0],\n",
    "    \"ap_suat\": list(data.ap_suat),\n",
    "    \"do_am\": list(data.do_am),\n",
    "    \"huong_gio\": list(data.huong_gio),\n",
    "    \"kinh_do\": data.kinh_do.unique()[0],\n",
    "    \"nhiet_do\": list(data.nhiet_do),\n",
    "    \"quoc_gia\": data.quoc_gia.unique()[0],\n",
    "    \"ten\": data.ten.unique()[0],\n",
    "    \"thoi_gian\": list(data.thoi_gian),\n",
    "    \"toc_do_gio\": list(data.thoi_gian),\n",
    "    \"vi_do\": data.vi_do.unique()[0]\n",
    "    }\n",
    "    return kq\n",
    "\n"
   ]
  },
  {
   "cell_type": "code",
   "execution_count": 75,
   "metadata": {},
   "outputs": [
    {
     "data": {
      "text/plain": [
       "'{\"ID\": 1581130, \"ap_suat\": [1007, 1007, 1007, 1007, 1007, 1007, 1007, 1007, 1007, 1007], \"do_am\": [79, 79, 79, 79, 79, 79, 79, 79, 79, 79], \"huong_gio\": [155, 155, 155, 155, 155, 155, 155, 155, 155, 155], \"kinh_do\": 105.8412, \"nhiet_do\": [27.0, 27.0, 27.0, 27.0, 27.0, 27.0, 27.0, 27.0, 27.0, 27.0], \"quoc_gia\": \"VN\", \"ten\": \"hanoi\", \"thoi_gian\": [\"Wed Apr 13 21:56:24 2022\", \"Wed Apr 13 21:57:04 2022\", \"Wed Apr 13 21:57:24 2022\", \"Wed Apr 13 21:58:04 2022\", \"Wed Apr 13 21:58:34 2022\", \"Wed Apr 13 21:58:44 2022\", \"Wed Apr 13 22:00:04 2022\", \"Wed Apr 13 22:00:34 2022\", \"Wed Apr 13 22:01:44 2022\", \"Wed Apr 13 22:02:04 2022\"], \"toc_do_gio\": [\"Wed Apr 13 21:56:24 2022\", \"Wed Apr 13 21:57:04 2022\", \"Wed Apr 13 21:57:24 2022\", \"Wed Apr 13 21:58:04 2022\", \"Wed Apr 13 21:58:34 2022\", \"Wed Apr 13 21:58:44 2022\", \"Wed Apr 13 22:00:04 2022\", \"Wed Apr 13 22:00:34 2022\", \"Wed Apr 13 22:01:44 2022\", \"Wed Apr 13 22:02:04 2022\"], \"vi_do\": 21.0245}'"
      ]
     },
     "execution_count": 75,
     "metadata": {},
     "output_type": "execute_result"
    }
   ],
   "source": [
    "import numpy as np\n",
    "kq=get_data_to_web('hanoi')\n",
    "def np_encoder(object):\n",
    "    if isinstance(object, np.generic):\n",
    "        return object.item()\n",
    "json.dumps(kq,default=np_encoder)\n"
   ]
  },
  {
   "cell_type": "code",
   "execution_count": 47,
   "metadata": {},
   "outputs": [
    {
     "data": {
      "text/plain": [
       "{'index': 261,\n",
       " 'ID': 1580240.0,\n",
       " 'ap_suat': 1008.0,\n",
       " 'do_am': 88.0,\n",
       " 'huong_gio': 300.0,\n",
       " 'kinh_do': 107.6,\n",
       " 'nhiet_do': 25.06,\n",
       " 'quoc_gia': 'VN',\n",
       " 'ten': 'hue',\n",
       " 'thoi_gian': 'Wed Apr 13 20:45:08 2022',\n",
       " 'toc_do_gio': 1.03,\n",
       " 'vi_do': 16.4667}"
      ]
     },
     "execution_count": 47,
     "metadata": {},
     "output_type": "execute_result"
    }
   ],
   "source": [
    "data=df.loc[df.ten=='hue'][-1:].reset_index() \n",
    "data.to_dict('records')[-1]"
   ]
  },
  {
   "cell_type": "code",
   "execution_count": 76,
   "metadata": {},
   "outputs": [],
   "source": [
    "    js={\n",
    "    \"ID\": 1581130,\n",
    "    \"ten\": \"hanoi\",\n",
    "    \"quoc_gia\": \"VN\",\n",
    "    \"kinh_do\": 105.8412,\n",
    "    \"vi_do\": 21.0245,\n",
    "    \"thoi_gian\": \"Mon Apr 11 22:47:12 2022\",\n",
    "    \"nhiet_do\": 23,\n",
    "    \"do_am\": 82,\n",
    "    \"ap_suat\": 1008,\n",
    "    \"huong_gio\": 150,\n",
    "    \"toc_do_gio\": 3.75\n",
    "    \n",
    "    }"
   ]
  },
  {
   "cell_type": "code",
   "execution_count": 77,
   "metadata": {},
   "outputs": [],
   "source": [
    "import json\n",
    "a=json.dumps(js)"
   ]
  },
  {
   "cell_type": "code",
   "execution_count": 78,
   "metadata": {},
   "outputs": [
    {
     "data": {
      "text/plain": [
       "{'ID': 1581130,\n",
       " 'ten': 'hanoi',\n",
       " 'quoc_gia': 'VN',\n",
       " 'kinh_do': 105.8412,\n",
       " 'vi_do': 21.0245,\n",
       " 'thoi_gian': 'Mon Apr 11 22:47:12 2022',\n",
       " 'nhiet_do': 23,\n",
       " 'do_am': 82,\n",
       " 'ap_suat': 1008,\n",
       " 'huong_gio': 150,\n",
       " 'toc_do_gio': 3.75}"
      ]
     },
     "execution_count": 78,
     "metadata": {},
     "output_type": "execute_result"
    }
   ],
   "source": [
    "json.loads(a)"
   ]
  },
  {
   "cell_type": "code",
   "execution_count": 79,
   "metadata": {},
   "outputs": [],
   "source": [
    "pd.DataFrame(pd.Series(js)).T.to_csv('weather.csv',index=None)"
   ]
  },
  {
   "cell_type": "code",
   "execution_count": 1,
   "metadata": {},
   "outputs": [],
   "source": [
    "import requests"
   ]
  },
  {
   "cell_type": "code",
   "execution_count": 80,
   "metadata": {},
   "outputs": [],
   "source": [
    " r= requests.request(\"POST\",\"http://127.0.0.1:9999/get_weather/hanoi\" )"
   ]
  },
  {
   "cell_type": "code",
   "execution_count": 81,
   "metadata": {},
   "outputs": [
    {
     "data": {
      "text/plain": [
       "{'ID': 1581130,\n",
       " 'ap_suat': [1007,\n",
       "  1007,\n",
       "  1007,\n",
       "  1007,\n",
       "  1007,\n",
       "  1007,\n",
       "  1007,\n",
       "  1007,\n",
       "  1007,\n",
       "  1007,\n",
       "  1007,\n",
       "  1007],\n",
       " 'do_am': [79, 79, 79, 79, 79, 79, 79, 79, 79, 79, 79, 79],\n",
       " 'huong_gio': [155, 155, 155, 155, 155, 155, 155, 155, 155, 155, 155, 155],\n",
       " 'kinh_do': 105.8412,\n",
       " 'nhiet_do': [27.0,\n",
       "  27.0,\n",
       "  27.0,\n",
       "  27.0,\n",
       "  27.0,\n",
       "  27.0,\n",
       "  27.0,\n",
       "  27.0,\n",
       "  27.0,\n",
       "  27.0,\n",
       "  27.0,\n",
       "  27.0],\n",
       " 'quoc_gia': 'VN',\n",
       " 'ten': 'hanoi',\n",
       " 'thoi_gian': ['Wed Apr 13 21:54:34 2022',\n",
       "  'Wed Apr 13 21:55:14 2022',\n",
       "  'Wed Apr 13 21:56:24 2022',\n",
       "  'Wed Apr 13 21:57:04 2022',\n",
       "  'Wed Apr 13 21:57:24 2022',\n",
       "  'Wed Apr 13 21:58:04 2022',\n",
       "  'Wed Apr 13 21:58:34 2022',\n",
       "  'Wed Apr 13 21:58:44 2022',\n",
       "  'Wed Apr 13 22:00:04 2022',\n",
       "  'Wed Apr 13 22:00:34 2022',\n",
       "  'Wed Apr 13 22:01:44 2022',\n",
       "  'Wed Apr 13 22:02:04 2022'],\n",
       " 'toc_do_gio': [4.22,\n",
       "  4.22,\n",
       "  4.22,\n",
       "  4.22,\n",
       "  4.22,\n",
       "  4.22,\n",
       "  4.22,\n",
       "  4.22,\n",
       "  4.22,\n",
       "  4.22,\n",
       "  4.22,\n",
       "  4.22],\n",
       " 'vi_do': 21.0245}"
      ]
     },
     "execution_count": 81,
     "metadata": {},
     "output_type": "execute_result"
    }
   ],
   "source": [
    "import json\n",
    "json.loads(r.content)"
   ]
  },
  {
   "cell_type": "code",
   "execution_count": 59,
   "metadata": {},
   "outputs": [
    {
     "data": {
      "text/plain": [
       "b'<!DOCTYPE HTML PUBLIC \"-//W3C//DTD HTML 4.01 Transitional//EN\"\\n  \"http://www.w3.org/TR/html4/loose.dtd\">\\n<html>\\n  <head>\\n    <title>TypeError: Object of type int64 is not JSON serializable // Werkzeug Debugger</title>\\n    <link rel=\"stylesheet\" href=\"?__debugger__=yes&amp;cmd=resource&amp;f=style.css\"\\n        type=\"text/css\">\\n    <!-- We need to make sure this has a favicon so that the debugger does\\n         not by accident trigger a request to /favicon.ico which might\\n         change the application state. -->\\n    <link rel=\"shortcut icon\"\\n        href=\"?__debugger__=yes&amp;cmd=resource&amp;f=console.png\">\\n    <script src=\"?__debugger__=yes&amp;cmd=resource&amp;f=jquery.js\"></script>\\n    <script src=\"?__debugger__=yes&amp;cmd=resource&amp;f=debugger.js\"></script>\\n    <script type=\"text/javascript\">\\n      var TRACEBACK = 2663645461568,\\n          CONSOLE_MODE = false,\\n          EVALEX = true,\\n          EVALEX_TRUSTED = false,\\n          SECRET = \"kz2NIEXzlh05W3ghM0xh\";\\n    </script>\\n  </head>\\n  <body style=\"background-color: #fff\">\\n    <div class=\"debugger\">\\n<h1>TypeError</h1>\\n<div class=\"detail\">\\n  <p class=\"errormsg\">TypeError: Object of type int64 is not JSON serializable</p>\\n</div>\\n<h2 class=\"traceback\">Traceback <em>(most recent call last)</em></h2>\\n<div class=\"traceback\">\\n  \\n  <ul><li><div class=\"frame\" id=\"frame-2663645461712\">\\n  <h4>File <cite class=\"filename\">\"C:\\\\Users\\\\Admin\\\\anaconda3\\\\Lib\\\\site-packages\\\\flask\\\\app.py\"</cite>,\\n      line <em class=\"line\">2464</em>,\\n      in <code class=\"function\">__call__</code></h4>\\n  <div class=\"source library\"><pre class=\"line before\"><span class=\"ws\"></span> </pre>\\n<pre class=\"line before\"><span class=\"ws\">    </span>def __call__(self, environ, start_response):</pre>\\n<pre class=\"line before\"><span class=\"ws\">        </span>&quot;&quot;&quot;The WSGI server calls the Flask application object as the</pre>\\n<pre class=\"line before\"><span class=\"ws\">        </span>WSGI application. This calls :meth:`wsgi_app` which can be</pre>\\n<pre class=\"line before\"><span class=\"ws\">        </span>wrapped to applying middleware.&quot;&quot;&quot;</pre>\\n<pre class=\"line current\"><span class=\"ws\">        </span>return self.wsgi_app(environ, start_response)</pre>\\n<pre class=\"line after\"><span class=\"ws\"></span> </pre>\\n<pre class=\"line after\"><span class=\"ws\">    </span>def __repr__(self):</pre>\\n<pre class=\"line after\"><span class=\"ws\">        </span>return &quot;&lt;%s %r&gt;&quot; % (self.__class__.__name__, self.name)</pre></div>\\n</div>\\n\\n<li><div class=\"frame\" id=\"frame-2663645461760\">\\n  <h4>File <cite class=\"filename\">\"C:\\\\Users\\\\Admin\\\\anaconda3\\\\Lib\\\\site-packages\\\\flask\\\\app.py\"</cite>,\\n      line <em class=\"line\">2450</em>,\\n      in <code class=\"function\">wsgi_app</code></h4>\\n  <div class=\"source library\"><pre class=\"line before\"><span class=\"ws\">            </span>try:</pre>\\n<pre class=\"line before\"><span class=\"ws\">                </span>ctx.push()</pre>\\n<pre class=\"line before\"><span class=\"ws\">                </span>response = self.full_dispatch_request()</pre>\\n<pre class=\"line before\"><span class=\"ws\">            </span>except Exception as e:</pre>\\n<pre class=\"line before\"><span class=\"ws\">                </span>error = e</pre>\\n<pre class=\"line current\"><span class=\"ws\">                </span>response = self.handle_exception(e)</pre>\\n<pre class=\"line after\"><span class=\"ws\">            </span>except:  # noqa: B001</pre>\\n<pre class=\"line after\"><span class=\"ws\">                </span>error = sys.exc_info()[1]</pre>\\n<pre class=\"line after\"><span class=\"ws\">                </span>raise</pre>\\n<pre class=\"line after\"><span class=\"ws\">            </span>return response(environ, start_response)</pre>\\n<pre class=\"line after\"><span class=\"ws\">        </span>finally:</pre></div>\\n</div>\\n\\n<li><div class=\"frame\" id=\"frame-2663645461952\">\\n  <h4>File <cite class=\"filename\">\"C:\\\\Users\\\\Admin\\\\anaconda3\\\\Lib\\\\site-packages\\\\flask\\\\app.py\"</cite>,\\n      line <em class=\"line\">1867</em>,\\n      in <code class=\"function\">handle_exception</code></h4>\\n  <div class=\"source library\"><pre class=\"line before\"><span class=\"ws\">            </span># if we want to repropagate the exception, we can attempt to</pre>\\n<pre class=\"line before\"><span class=\"ws\">            </span># raise it with the whole traceback in case we can do that</pre>\\n<pre class=\"line before\"><span class=\"ws\">            </span># (the function was actually called from the except part)</pre>\\n<pre class=\"line before\"><span class=\"ws\">            </span># otherwise, we just raise the error again</pre>\\n<pre class=\"line before\"><span class=\"ws\">            </span>if exc_value is e:</pre>\\n<pre class=\"line current\"><span class=\"ws\">                </span>reraise(exc_type, exc_value, tb)</pre>\\n<pre class=\"line after\"><span class=\"ws\">            </span>else:</pre>\\n<pre class=\"line after\"><span class=\"ws\">                </span>raise e</pre>\\n<pre class=\"line after\"><span class=\"ws\"></span> </pre>\\n<pre class=\"line after\"><span class=\"ws\">        </span>self.log_exception((exc_type, exc_value, tb))</pre>\\n<pre class=\"line after\"><span class=\"ws\">        </span>server_error = InternalServerError()</pre></div>\\n</div>\\n\\n<li><div class=\"frame\" id=\"frame-2663645461856\">\\n  <h4>File <cite class=\"filename\">\"C:\\\\Users\\\\Admin\\\\anaconda3\\\\Lib\\\\site-packages\\\\flask\\\\_compat.py\"</cite>,\\n      line <em class=\"line\">39</em>,\\n      in <code class=\"function\">reraise</code></h4>\\n  <div class=\"source library\"><pre class=\"line before\"><span class=\"ws\">    </span>import collections.abc as collections_abc</pre>\\n<pre class=\"line before\"><span class=\"ws\"></span> </pre>\\n<pre class=\"line before\"><span class=\"ws\">    </span>def reraise(tp, value, tb=None):</pre>\\n<pre class=\"line before\"><span class=\"ws\">        </span>if value.__traceback__ is not tb:</pre>\\n<pre class=\"line before\"><span class=\"ws\">            </span>raise value.with_traceback(tb)</pre>\\n<pre class=\"line current\"><span class=\"ws\">        </span>raise value</pre>\\n<pre class=\"line after\"><span class=\"ws\"></span> </pre>\\n<pre class=\"line after\"><span class=\"ws\">    </span>implements_to_string = _identity</pre>\\n<pre class=\"line after\"><span class=\"ws\"></span> </pre>\\n<pre class=\"line after\"><span class=\"ws\"></span>else:</pre>\\n<pre class=\"line after\"><span class=\"ws\">    </span>iterkeys = lambda d: d.iterkeys()</pre></div>\\n</div>\\n\\n<li><div class=\"frame\" id=\"frame-2663645462000\">\\n  <h4>File <cite class=\"filename\">\"C:\\\\Users\\\\Admin\\\\anaconda3\\\\Lib\\\\site-packages\\\\flask\\\\app.py\"</cite>,\\n      line <em class=\"line\">2447</em>,\\n      in <code class=\"function\">wsgi_app</code></h4>\\n  <div class=\"source library\"><pre class=\"line before\"><span class=\"ws\">        </span>ctx = self.request_context(environ)</pre>\\n<pre class=\"line before\"><span class=\"ws\">        </span>error = None</pre>\\n<pre class=\"line before\"><span class=\"ws\">        </span>try:</pre>\\n<pre class=\"line before\"><span class=\"ws\">            </span>try:</pre>\\n<pre class=\"line before\"><span class=\"ws\">                </span>ctx.push()</pre>\\n<pre class=\"line current\"><span class=\"ws\">                </span>response = self.full_dispatch_request()</pre>\\n<pre class=\"line after\"><span class=\"ws\">            </span>except Exception as e:</pre>\\n<pre class=\"line after\"><span class=\"ws\">                </span>error = e</pre>\\n<pre class=\"line after\"><span class=\"ws\">                </span>response = self.handle_exception(e)</pre>\\n<pre class=\"line after\"><span class=\"ws\">            </span>except:  # noqa: B001</pre>\\n<pre class=\"line after\"><span class=\"ws\">                </span>error = sys.exc_info()[1]</pre></div>\\n</div>\\n\\n<li><div class=\"frame\" id=\"frame-2663645461904\">\\n  <h4>File <cite class=\"filename\">\"C:\\\\Users\\\\Admin\\\\anaconda3\\\\Lib\\\\site-packages\\\\flask\\\\app.py\"</cite>,\\n      line <em class=\"line\">1952</em>,\\n      in <code class=\"function\">full_dispatch_request</code></h4>\\n  <div class=\"source library\"><pre class=\"line before\"><span class=\"ws\">            </span>request_started.send(self)</pre>\\n<pre class=\"line before\"><span class=\"ws\">            </span>rv = self.preprocess_request()</pre>\\n<pre class=\"line before\"><span class=\"ws\">            </span>if rv is None:</pre>\\n<pre class=\"line before\"><span class=\"ws\">                </span>rv = self.dispatch_request()</pre>\\n<pre class=\"line before\"><span class=\"ws\">        </span>except Exception as e:</pre>\\n<pre class=\"line current\"><span class=\"ws\">            </span>rv = self.handle_user_exception(e)</pre>\\n<pre class=\"line after\"><span class=\"ws\">        </span>return self.finalize_request(rv)</pre>\\n<pre class=\"line after\"><span class=\"ws\"></span> </pre>\\n<pre class=\"line after\"><span class=\"ws\">    </span>def finalize_request(self, rv, from_error_handler=False):</pre>\\n<pre class=\"line after\"><span class=\"ws\">        </span>&quot;&quot;&quot;Given the return value from a view function this finalizes</pre>\\n<pre class=\"line after\"><span class=\"ws\">        </span>the request by converting it into a response and invoking the</pre></div>\\n</div>\\n\\n<li><div class=\"frame\" id=\"frame-2663645462096\">\\n  <h4>File <cite class=\"filename\">\"C:\\\\Users\\\\Admin\\\\anaconda3\\\\Lib\\\\site-packages\\\\flask\\\\app.py\"</cite>,\\n      line <em class=\"line\">1821</em>,\\n      in <code class=\"function\">handle_user_exception</code></h4>\\n  <div class=\"source library\"><pre class=\"line before\"><span class=\"ws\">            </span>return self.handle_http_exception(e)</pre>\\n<pre class=\"line before\"><span class=\"ws\"></span> </pre>\\n<pre class=\"line before\"><span class=\"ws\">        </span>handler = self._find_error_handler(e)</pre>\\n<pre class=\"line before\"><span class=\"ws\"></span> </pre>\\n<pre class=\"line before\"><span class=\"ws\">        </span>if handler is None:</pre>\\n<pre class=\"line current\"><span class=\"ws\">            </span>reraise(exc_type, exc_value, tb)</pre>\\n<pre class=\"line after\"><span class=\"ws\">        </span>return handler(e)</pre>\\n<pre class=\"line after\"><span class=\"ws\"></span> </pre>\\n<pre class=\"line after\"><span class=\"ws\">    </span>def handle_exception(self, e):</pre>\\n<pre class=\"line after\"><span class=\"ws\">        </span>&quot;&quot;&quot;Handle an exception that did not have an error handler</pre>\\n<pre class=\"line after\"><span class=\"ws\">        </span>associated with it, or that was raised from an error handler.</pre></div>\\n</div>\\n\\n<li><div class=\"frame\" id=\"frame-2663645462144\">\\n  <h4>File <cite class=\"filename\">\"C:\\\\Users\\\\Admin\\\\anaconda3\\\\Lib\\\\site-packages\\\\flask\\\\_compat.py\"</cite>,\\n      line <em class=\"line\">39</em>,\\n      in <code class=\"function\">reraise</code></h4>\\n  <div class=\"source library\"><pre class=\"line before\"><span class=\"ws\">    </span>import collections.abc as collections_abc</pre>\\n<pre class=\"line before\"><span class=\"ws\"></span> </pre>\\n<pre class=\"line before\"><span class=\"ws\">    </span>def reraise(tp, value, tb=None):</pre>\\n<pre class=\"line before\"><span class=\"ws\">        </span>if value.__traceback__ is not tb:</pre>\\n<pre class=\"line before\"><span class=\"ws\">            </span>raise value.with_traceback(tb)</pre>\\n<pre class=\"line current\"><span class=\"ws\">        </span>raise value</pre>\\n<pre class=\"line after\"><span class=\"ws\"></span> </pre>\\n<pre class=\"line after\"><span class=\"ws\">    </span>implements_to_string = _identity</pre>\\n<pre class=\"line after\"><span class=\"ws\"></span> </pre>\\n<pre class=\"line after\"><span class=\"ws\"></span>else:</pre>\\n<pre class=\"line after\"><span class=\"ws\">    </span>iterkeys = lambda d: d.iterkeys()</pre></div>\\n</div>\\n\\n<li><div class=\"frame\" id=\"frame-2663645462192\">\\n  <h4>File <cite class=\"filename\">\"C:\\\\Users\\\\Admin\\\\anaconda3\\\\Lib\\\\site-packages\\\\flask\\\\app.py\"</cite>,\\n      line <em class=\"line\">1950</em>,\\n      in <code class=\"function\">full_dispatch_request</code></h4>\\n  <div class=\"source library\"><pre class=\"line before\"><span class=\"ws\">        </span>self.try_trigger_before_first_request_functions()</pre>\\n<pre class=\"line before\"><span class=\"ws\">        </span>try:</pre>\\n<pre class=\"line before\"><span class=\"ws\">            </span>request_started.send(self)</pre>\\n<pre class=\"line before\"><span class=\"ws\">            </span>rv = self.preprocess_request()</pre>\\n<pre class=\"line before\"><span class=\"ws\">            </span>if rv is None:</pre>\\n<pre class=\"line current\"><span class=\"ws\">                </span>rv = self.dispatch_request()</pre>\\n<pre class=\"line after\"><span class=\"ws\">        </span>except Exception as e:</pre>\\n<pre class=\"line after\"><span class=\"ws\">            </span>rv = self.handle_user_exception(e)</pre>\\n<pre class=\"line after\"><span class=\"ws\">        </span>return self.finalize_request(rv)</pre>\\n<pre class=\"line after\"><span class=\"ws\"></span> </pre>\\n<pre class=\"line after\"><span class=\"ws\">    </span>def finalize_request(self, rv, from_error_handler=False):</pre></div>\\n</div>\\n\\n<li><div class=\"frame\" id=\"frame-2663645462240\">\\n  <h4>File <cite class=\"filename\">\"C:\\\\Users\\\\Admin\\\\anaconda3\\\\Lib\\\\site-packages\\\\flask\\\\app.py\"</cite>,\\n      line <em class=\"line\">1936</em>,\\n      in <code class=\"function\">dispatch_request</code></h4>\\n  <div class=\"source library\"><pre class=\"line before\"><span class=\"ws\">            </span>getattr(rule, &quot;provide_automatic_options&quot;, False)</pre>\\n<pre class=\"line before\"><span class=\"ws\">            </span>and req.method == &quot;OPTIONS&quot;</pre>\\n<pre class=\"line before\"><span class=\"ws\">        </span>):</pre>\\n<pre class=\"line before\"><span class=\"ws\">            </span>return self.make_default_options_response()</pre>\\n<pre class=\"line before\"><span class=\"ws\">        </span># otherwise dispatch to the handler for that endpoint</pre>\\n<pre class=\"line current\"><span class=\"ws\">        </span>return self.view_functions[rule.endpoint](**req.view_args)</pre>\\n<pre class=\"line after\"><span class=\"ws\"></span> </pre>\\n<pre class=\"line after\"><span class=\"ws\">    </span>def full_dispatch_request(self):</pre>\\n<pre class=\"line after\"><span class=\"ws\">        </span>&quot;&quot;&quot;Dispatches the request and on top of that performs request</pre>\\n<pre class=\"line after\"><span class=\"ws\">        </span>pre and postprocessing as well as HTTP exception catching and</pre>\\n<pre class=\"line after\"><span class=\"ws\">        </span>error handling.</pre></div>\\n</div>\\n\\n<li><div class=\"frame\" id=\"frame-2663645462288\">\\n  <h4>File <cite class=\"filename\">\"D:\\\\nvh\\\\thac_sy\\\\20212\\\\IoT\\\\BTL\\\\weather_api\\\\api.py\"</cite>,\\n      line <em class=\"line\">49</em>,\\n      in <code class=\"function\">get_weather</code></h4>\\n  <div class=\"source \"><pre class=\"line before\"><span class=\"ws\">            </span>&quot;thoi_gian&quot;: list(data.thoi_gian),</pre>\\n<pre class=\"line before\"><span class=\"ws\">            </span>&quot;toc_do_gio&quot;: list(data.toc_do_gio),</pre>\\n<pre class=\"line before\"><span class=\"ws\">            </span>&quot;vi_do&quot;: data.vi_do.unique()[0]</pre>\\n<pre class=\"line before\"><span class=\"ws\">            </span>}</pre>\\n<pre class=\"line before\"><span class=\"ws\"></span> </pre>\\n<pre class=\"line current\"><span class=\"ws\">        </span>return json.dumps(kq)</pre>\\n<pre class=\"line after\"><span class=\"ws\"></span> </pre>\\n<pre class=\"line after\"><span class=\"ws\"></span>def save_data(data):</pre>\\n<pre class=\"line after\"><span class=\"ws\">    </span>df= pd.read_csv(\\'weather.csv\\')</pre>\\n<pre class=\"line after\"><span class=\"ws\">    </span>df=df.dropna()</pre>\\n<pre class=\"line after\"><span class=\"ws\">    </span>df=df.append(pd.DataFrame(pd.Series(data)).T,ignore_index=True)</pre></div>\\n</div>\\n\\n<li><div class=\"frame\" id=\"frame-2663645462336\">\\n  <h4>File <cite class=\"filename\">\"C:\\\\Users\\\\Admin\\\\anaconda3\\\\Lib\\\\json\\\\__init__.py\"</cite>,\\n      line <em class=\"line\">231</em>,\\n      in <code class=\"function\">dumps</code></h4>\\n  <div class=\"source library\"><pre class=\"line before\"><span class=\"ws\">    </span># cached encoder</pre>\\n<pre class=\"line before\"><span class=\"ws\">    </span>if (not skipkeys and ensure_ascii and</pre>\\n<pre class=\"line before\"><span class=\"ws\">        </span>check_circular and allow_nan and</pre>\\n<pre class=\"line before\"><span class=\"ws\">        </span>cls is None and indent is None and separators is None and</pre>\\n<pre class=\"line before\"><span class=\"ws\">        </span>default is None and not sort_keys and not kw):</pre>\\n<pre class=\"line current\"><span class=\"ws\">        </span>return _default_encoder.encode(obj)</pre>\\n<pre class=\"line after\"><span class=\"ws\">    </span>if cls is None:</pre>\\n<pre class=\"line after\"><span class=\"ws\">        </span>cls = JSONEncoder</pre>\\n<pre class=\"line after\"><span class=\"ws\">    </span>return cls(</pre>\\n<pre class=\"line after\"><span class=\"ws\">        </span>skipkeys=skipkeys, ensure_ascii=ensure_ascii,</pre>\\n<pre class=\"line after\"><span class=\"ws\">        </span>check_circular=check_circular, allow_nan=allow_nan, indent=indent,</pre></div>\\n</div>\\n\\n<li><div class=\"frame\" id=\"frame-2663645461808\">\\n  <h4>File <cite class=\"filename\">\"C:\\\\Users\\\\Admin\\\\anaconda3\\\\Lib\\\\json\\\\encoder.py\"</cite>,\\n      line <em class=\"line\">199</em>,\\n      in <code class=\"function\">encode</code></h4>\\n  <div class=\"source library\"><pre class=\"line before\"><span class=\"ws\">            </span>else:</pre>\\n<pre class=\"line before\"><span class=\"ws\">                </span>return encode_basestring(o)</pre>\\n<pre class=\"line before\"><span class=\"ws\">        </span># This doesn\\'t pass the iterator directly to \\'\\'.join() because the</pre>\\n<pre class=\"line before\"><span class=\"ws\">        </span># exceptions aren\\'t as detailed.  The list call should be roughly</pre>\\n<pre class=\"line before\"><span class=\"ws\">        </span># equivalent to the PySequence_Fast that \\'\\'.join() would do.</pre>\\n<pre class=\"line current\"><span class=\"ws\">        </span>chunks = self.iterencode(o, _one_shot=True)</pre>\\n<pre class=\"line after\"><span class=\"ws\">        </span>if not isinstance(chunks, (list, tuple)):</pre>\\n<pre class=\"line after\"><span class=\"ws\">            </span>chunks = list(chunks)</pre>\\n<pre class=\"line after\"><span class=\"ws\">        </span>return \\'\\'.join(chunks)</pre>\\n<pre class=\"line after\"><span class=\"ws\"></span> </pre>\\n<pre class=\"line after\"><span class=\"ws\">    </span>def iterencode(self, o, _one_shot=False):</pre></div>\\n</div>\\n\\n<li><div class=\"frame\" id=\"frame-2663645462480\">\\n  <h4>File <cite class=\"filename\">\"C:\\\\Users\\\\Admin\\\\anaconda3\\\\Lib\\\\json\\\\encoder.py\"</cite>,\\n      line <em class=\"line\">257</em>,\\n      in <code class=\"function\">iterencode</code></h4>\\n  <div class=\"source library\"><pre class=\"line before\"><span class=\"ws\">        </span>else:</pre>\\n<pre class=\"line before\"><span class=\"ws\">            </span>_iterencode = _make_iterencode(</pre>\\n<pre class=\"line before\"><span class=\"ws\">                </span>markers, self.default, _encoder, self.indent, floatstr,</pre>\\n<pre class=\"line before\"><span class=\"ws\">                </span>self.key_separator, self.item_separator, self.sort_keys,</pre>\\n<pre class=\"line before\"><span class=\"ws\">                </span>self.skipkeys, _one_shot)</pre>\\n<pre class=\"line current\"><span class=\"ws\">        </span>return _iterencode(o, 0)</pre>\\n<pre class=\"line after\"><span class=\"ws\"></span> </pre>\\n<pre class=\"line after\"><span class=\"ws\"></span>def _make_iterencode(markers, _default, _encoder, _indent, _floatstr,</pre>\\n<pre class=\"line after\"><span class=\"ws\">        </span>_key_separator, _item_separator, _sort_keys, _skipkeys, _one_shot,</pre>\\n<pre class=\"line after\"><span class=\"ws\">        </span>## HACK: hand-optimized bytecode; turn globals into locals</pre>\\n<pre class=\"line after\"><span class=\"ws\">        </span>ValueError=ValueError,</pre></div>\\n</div>\\n\\n<li><div class=\"frame\" id=\"frame-2663645462384\">\\n  <h4>File <cite class=\"filename\">\"C:\\\\Users\\\\Admin\\\\anaconda3\\\\Lib\\\\json\\\\encoder.py\"</cite>,\\n      line <em class=\"line\">179</em>,\\n      in <code class=\"function\">default</code></h4>\\n  <div class=\"source library\"><pre class=\"line before\"><span class=\"ws\">                    </span>return list(iterable)</pre>\\n<pre class=\"line before\"><span class=\"ws\">                </span># Let the base class default method raise the TypeError</pre>\\n<pre class=\"line before\"><span class=\"ws\">                </span>return JSONEncoder.default(self, o)</pre>\\n<pre class=\"line before\"><span class=\"ws\"></span> </pre>\\n<pre class=\"line before\"><span class=\"ws\">        </span>&quot;&quot;&quot;</pre>\\n<pre class=\"line current\"><span class=\"ws\">        </span>raise TypeError(f\\'Object of type {o.__class__.__name__} \\'</pre>\\n<pre class=\"line after\"><span class=\"ws\">                        </span>f\\'is not JSON serializable\\')</pre>\\n<pre class=\"line after\"><span class=\"ws\"></span> </pre>\\n<pre class=\"line after\"><span class=\"ws\">    </span>def encode(self, o):</pre>\\n<pre class=\"line after\"><span class=\"ws\">        </span>&quot;&quot;&quot;Return a JSON string representation of a Python data structure.</pre>\\n<pre class=\"line after\"><span class=\"ws\"></span> </pre></div>\\n</div>\\n</ul>\\n  <blockquote>TypeError: Object of type int64 is not JSON serializable</blockquote>\\n</div>\\n\\n<div class=\"plain\">\\n  <form action=\"/?__debugger__=yes&amp;cmd=paste\" method=\"post\">\\n    <p>\\n      <input type=\"hidden\" name=\"language\" value=\"pytb\">\\n      This is the Copy/Paste friendly version of the traceback.  <span\\n      class=\"pastemessage\">You can also paste this traceback into\\n      a <a href=\"https://gist.github.com/\">gist</a>:\\n      <input type=\"submit\" value=\"create paste\"></span>\\n    </p>\\n    <textarea cols=\"50\" rows=\"10\" name=\"code\" readonly>Traceback (most recent call last):\\n  File &quot;C:\\\\Users\\\\Admin\\\\anaconda3\\\\Lib\\\\site-packages\\\\flask\\\\app.py&quot;, line 2464, in __call__\\n    return self.wsgi_app(environ, start_response)\\n  File &quot;C:\\\\Users\\\\Admin\\\\anaconda3\\\\Lib\\\\site-packages\\\\flask\\\\app.py&quot;, line 2450, in wsgi_app\\n    response = self.handle_exception(e)\\n  File &quot;C:\\\\Users\\\\Admin\\\\anaconda3\\\\Lib\\\\site-packages\\\\flask\\\\app.py&quot;, line 1867, in handle_exception\\n    reraise(exc_type, exc_value, tb)\\n  File &quot;C:\\\\Users\\\\Admin\\\\anaconda3\\\\Lib\\\\site-packages\\\\flask\\\\_compat.py&quot;, line 39, in reraise\\n    raise value\\n  File &quot;C:\\\\Users\\\\Admin\\\\anaconda3\\\\Lib\\\\site-packages\\\\flask\\\\app.py&quot;, line 2447, in wsgi_app\\n    response = self.full_dispatch_request()\\n  File &quot;C:\\\\Users\\\\Admin\\\\anaconda3\\\\Lib\\\\site-packages\\\\flask\\\\app.py&quot;, line 1952, in full_dispatch_request\\n    rv = self.handle_user_exception(e)\\n  File &quot;C:\\\\Users\\\\Admin\\\\anaconda3\\\\Lib\\\\site-packages\\\\flask\\\\app.py&quot;, line 1821, in handle_user_exception\\n    reraise(exc_type, exc_value, tb)\\n  File &quot;C:\\\\Users\\\\Admin\\\\anaconda3\\\\Lib\\\\site-packages\\\\flask\\\\_compat.py&quot;, line 39, in reraise\\n    raise value\\n  File &quot;C:\\\\Users\\\\Admin\\\\anaconda3\\\\Lib\\\\site-packages\\\\flask\\\\app.py&quot;, line 1950, in full_dispatch_request\\n    rv = self.dispatch_request()\\n  File &quot;C:\\\\Users\\\\Admin\\\\anaconda3\\\\Lib\\\\site-packages\\\\flask\\\\app.py&quot;, line 1936, in dispatch_request\\n    return self.view_functions[rule.endpoint](**req.view_args)\\n  File &quot;D:\\\\nvh\\\\thac_sy\\\\20212\\\\IoT\\\\BTL\\\\weather_api\\\\api.py&quot;, line 49, in get_weather\\n    return json.dumps(kq)\\n  File &quot;C:\\\\Users\\\\Admin\\\\anaconda3\\\\Lib\\\\json\\\\__init__.py&quot;, line 231, in dumps\\n    return _default_encoder.encode(obj)\\n  File &quot;C:\\\\Users\\\\Admin\\\\anaconda3\\\\Lib\\\\json\\\\encoder.py&quot;, line 199, in encode\\n    chunks = self.iterencode(o, _one_shot=True)\\n  File &quot;C:\\\\Users\\\\Admin\\\\anaconda3\\\\Lib\\\\json\\\\encoder.py&quot;, line 257, in iterencode\\n    return _iterencode(o, 0)\\n  File &quot;C:\\\\Users\\\\Admin\\\\anaconda3\\\\Lib\\\\json\\\\encoder.py&quot;, line 179, in default\\n    raise TypeError(f\\'Object of type {o.__class__.__name__} \\'\\nTypeError: Object of type int64 is not JSON serializable</textarea>\\n  </form>\\n</div>\\n<div class=\"explanation\">\\n  The debugger caught an exception in your WSGI application.  You can now\\n  look at the traceback which led to the error.  <span class=\"nojavascript\">\\n  If you enable JavaScript you can also use additional features such as code\\n  execution (if the evalex feature is enabled), automatic pasting of the\\n  exceptions and much more.</span>\\n</div>\\n      <div class=\"footer\">\\n        Brought to you by <strong class=\"arthur\">DON\\'T PANIC</strong>, your\\n        friendly Werkzeug powered traceback interpreter.\\n      </div>\\n    </div>\\n\\n    <div class=\"pin-prompt\">\\n      <div class=\"inner\">\\n        <h3>Console Locked</h3>\\n        <p>\\n          The console is locked and needs to be unlocked by entering the PIN.\\n          You can find the PIN printed out on the standard output of your\\n          shell that runs the server.\\n        <form>\\n          <p>PIN:\\n            <input type=text name=pin size=14>\\n            <input type=submit name=btn value=\"Confirm Pin\">\\n        </form>\\n      </div>\\n    </div>\\n  </body>\\n</html>\\n\\n<!--\\n\\nTraceback (most recent call last):\\n  File \"C:\\\\Users\\\\Admin\\\\anaconda3\\\\Lib\\\\site-packages\\\\flask\\\\app.py\", line 2464, in __call__\\n    return self.wsgi_app(environ, start_response)\\n  File \"C:\\\\Users\\\\Admin\\\\anaconda3\\\\Lib\\\\site-packages\\\\flask\\\\app.py\", line 2450, in wsgi_app\\n    response = self.handle_exception(e)\\n  File \"C:\\\\Users\\\\Admin\\\\anaconda3\\\\Lib\\\\site-packages\\\\flask\\\\app.py\", line 1867, in handle_exception\\n    reraise(exc_type, exc_value, tb)\\n  File \"C:\\\\Users\\\\Admin\\\\anaconda3\\\\Lib\\\\site-packages\\\\flask\\\\_compat.py\", line 39, in reraise\\n    raise value\\n  File \"C:\\\\Users\\\\Admin\\\\anaconda3\\\\Lib\\\\site-packages\\\\flask\\\\app.py\", line 2447, in wsgi_app\\n    response = self.full_dispatch_request()\\n  File \"C:\\\\Users\\\\Admin\\\\anaconda3\\\\Lib\\\\site-packages\\\\flask\\\\app.py\", line 1952, in full_dispatch_request\\n    rv = self.handle_user_exception(e)\\n  File \"C:\\\\Users\\\\Admin\\\\anaconda3\\\\Lib\\\\site-packages\\\\flask\\\\app.py\", line 1821, in handle_user_exception\\n    reraise(exc_type, exc_value, tb)\\n  File \"C:\\\\Users\\\\Admin\\\\anaconda3\\\\Lib\\\\site-packages\\\\flask\\\\_compat.py\", line 39, in reraise\\n    raise value\\n  File \"C:\\\\Users\\\\Admin\\\\anaconda3\\\\Lib\\\\site-packages\\\\flask\\\\app.py\", line 1950, in full_dispatch_request\\n    rv = self.dispatch_request()\\n  File \"C:\\\\Users\\\\Admin\\\\anaconda3\\\\Lib\\\\site-packages\\\\flask\\\\app.py\", line 1936, in dispatch_request\\n    return self.view_functions[rule.endpoint](**req.view_args)\\n  File \"D:\\\\nvh\\\\thac_sy\\\\20212\\\\IoT\\\\BTL\\\\weather_api\\\\api.py\", line 49, in get_weather\\n    return json.dumps(kq)\\n  File \"C:\\\\Users\\\\Admin\\\\anaconda3\\\\Lib\\\\json\\\\__init__.py\", line 231, in dumps\\n    return _default_encoder.encode(obj)\\n  File \"C:\\\\Users\\\\Admin\\\\anaconda3\\\\Lib\\\\json\\\\encoder.py\", line 199, in encode\\n    chunks = self.iterencode(o, _one_shot=True)\\n  File \"C:\\\\Users\\\\Admin\\\\anaconda3\\\\Lib\\\\json\\\\encoder.py\", line 257, in iterencode\\n    return _iterencode(o, 0)\\n  File \"C:\\\\Users\\\\Admin\\\\anaconda3\\\\Lib\\\\json\\\\encoder.py\", line 179, in default\\n    raise TypeError(f\\'Object of type {o.__class__.__name__} \\'\\nTypeError: Object of type int64 is not JSON serializable\\n\\n-->\\n'"
      ]
     },
     "execution_count": 59,
     "metadata": {},
     "output_type": "execute_result"
    }
   ],
   "source": [
    "r.content"
   ]
  },
  {
   "cell_type": "code",
   "execution_count": null,
   "metadata": {},
   "outputs": [],
   "source": []
  }
 ],
 "metadata": {
  "interpreter": {
   "hash": "183bbf6827d058c2a2fb0f4acdc0420849dda2b4380af0e437e38c64d798d8b7"
  },
  "kernelspec": {
   "display_name": "Python 3.8.8 ('base')",
   "language": "python",
   "name": "python3"
  },
  "language_info": {
   "codemirror_mode": {
    "name": "ipython",
    "version": 3
   },
   "file_extension": ".py",
   "mimetype": "text/x-python",
   "name": "python",
   "nbconvert_exporter": "python",
   "pygments_lexer": "ipython3",
   "version": "3.8.8"
  },
  "orig_nbformat": 4
 },
 "nbformat": 4,
 "nbformat_minor": 2
}
