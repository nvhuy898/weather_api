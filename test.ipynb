{
 "cells": [
  {
   "cell_type": "code",
   "execution_count": 35,
   "metadata": {},
   "outputs": [],
   "source": [
    "import pandas as pd\n"
   ]
  },
  {
   "cell_type": "code",
   "execution_count": 81,
   "metadata": {},
   "outputs": [
    {
     "data": {
      "text/plain": [
       "{'ID': 1581130,\n",
       " 'ten': 'hanoi',\n",
       " 'quoc_gia': 'VN',\n",
       " 'kinh_do': 105.8412,\n",
       " 'vi_do': 21.0245,\n",
       " 'thoi_gian': 'Mon Apr 11 22:47:12 2022',\n",
       " 'nhiet_do': 23,\n",
       " 'do_am': 82,\n",
       " 'ap_suat': 1008,\n",
       " 'huong_gio': 150,\n",
       " 'toc_do_gio': 3.75}"
      ]
     },
     "execution_count": 81,
     "metadata": {},
     "output_type": "execute_result"
    }
   ],
   "source": [
    "df=pd.read_csv('weather.csv',index_col=None)\n",
    "kq=df.to_dict('records')[-1]\n",
    "kq"
   ]
  },
  {
   "cell_type": "code",
   "execution_count": 90,
   "metadata": {},
   "outputs": [
    {
     "data": {
      "text/plain": [
       "0"
      ]
     },
     "execution_count": 90,
     "metadata": {},
     "output_type": "execute_result"
    }
   ],
   "source": [
    "t=df.loc[df.ten=='hue']\n",
    "len(t)"
   ]
  },
  {
   "cell_type": "code",
   "execution_count": 7,
   "metadata": {},
   "outputs": [],
   "source": [
    "df.thoi_gian=pd.to_datetime(df.thoi_gian)"
   ]
  },
  {
   "cell_type": "code",
   "execution_count": 27,
   "metadata": {},
   "outputs": [
    {
     "data": {
      "text/plain": [
       "1580240.0"
      ]
     },
     "execution_count": 27,
     "metadata": {},
     "output_type": "execute_result"
    }
   ],
   "source": [
    "data=df.loc[df.ten=='hue'][-10:]\n",
    "data.ID.unique()[0]"
   ]
  },
  {
   "cell_type": "code",
   "execution_count": 28,
   "metadata": {},
   "outputs": [],
   "source": [
    "def get_data_to_web(city):\n",
    "    data=df.loc[df.ten==city][-10:]\n",
    "    kq={\n",
    "    \"ID\": data.ID.unique()[0],\n",
    "    \"ap_suat\": list(data.ap_suat),\n",
    "    \"do_am\": list(data.do_am),\n",
    "    \"huong_gio\": list(data.huong_gio),\n",
    "    \"kinh_do\": data.kinh_do.unique()[0],\n",
    "    \"nhiet_do\": list(data.nhiet_do),\n",
    "    \"quoc_gia\": data.quoc_gia.unique()[0],\n",
    "    \"ten\": data.ten.unique()[0],\n",
    "    \"thoi_gian\": list(data.thoi_gian),\n",
    "    \"toc_do_gio\": list(data.thoi_gian),\n",
    "    \"vi_do\": data.vi_do.unique()[0]\n",
    "    }\n",
    "    return kq\n",
    "\n"
   ]
  },
  {
   "cell_type": "code",
   "execution_count": 31,
   "metadata": {},
   "outputs": [
    {
     "data": {
      "text/plain": [
       "[Timestamp('2022-04-13 20:42:08'),\n",
       " Timestamp('2022-04-13 20:42:38'),\n",
       " Timestamp('2022-04-13 20:42:58'),\n",
       " Timestamp('2022-04-13 20:43:08'),\n",
       " Timestamp('2022-04-13 20:43:18'),\n",
       " Timestamp('2022-04-13 20:43:28'),\n",
       " Timestamp('2022-04-13 20:43:58'),\n",
       " Timestamp('2022-04-13 20:44:18'),\n",
       " Timestamp('2022-04-13 20:44:28'),\n",
       " Timestamp('2022-04-13 20:45:38')]"
      ]
     },
     "execution_count": 31,
     "metadata": {},
     "output_type": "execute_result"
    }
   ],
   "source": [
    "kq=get_data_to_web('hanoi')\n",
    "kq['thoi_gian']"
   ]
  },
  {
   "cell_type": "code",
   "execution_count": 47,
   "metadata": {},
   "outputs": [
    {
     "data": {
      "text/plain": [
       "{'index': 261,\n",
       " 'ID': 1580240.0,\n",
       " 'ap_suat': 1008.0,\n",
       " 'do_am': 88.0,\n",
       " 'huong_gio': 300.0,\n",
       " 'kinh_do': 107.6,\n",
       " 'nhiet_do': 25.06,\n",
       " 'quoc_gia': 'VN',\n",
       " 'ten': 'hue',\n",
       " 'thoi_gian': 'Wed Apr 13 20:45:08 2022',\n",
       " 'toc_do_gio': 1.03,\n",
       " 'vi_do': 16.4667}"
      ]
     },
     "execution_count": 47,
     "metadata": {},
     "output_type": "execute_result"
    }
   ],
   "source": [
    "data=df.loc[df.ten=='hue'][-1:].reset_index() \n",
    "data.to_dict('records')[-1]"
   ]
  },
  {
   "cell_type": "code",
   "execution_count": 76,
   "metadata": {},
   "outputs": [],
   "source": [
    "    js={\n",
    "    \"ID\": 1581130,\n",
    "    \"ten\": \"hanoi\",\n",
    "    \"quoc_gia\": \"VN\",\n",
    "    \"kinh_do\": 105.8412,\n",
    "    \"vi_do\": 21.0245,\n",
    "    \"thoi_gian\": \"Mon Apr 11 22:47:12 2022\",\n",
    "    \"nhiet_do\": 23,\n",
    "    \"do_am\": 82,\n",
    "    \"ap_suat\": 1008,\n",
    "    \"huong_gio\": 150,\n",
    "    \"toc_do_gio\": 3.75\n",
    "    \n",
    "    }"
   ]
  },
  {
   "cell_type": "code",
   "execution_count": 77,
   "metadata": {},
   "outputs": [],
   "source": [
    "import json\n",
    "a=json.dumps(js)"
   ]
  },
  {
   "cell_type": "code",
   "execution_count": 78,
   "metadata": {},
   "outputs": [
    {
     "data": {
      "text/plain": [
       "{'ID': 1581130,\n",
       " 'ten': 'hanoi',\n",
       " 'quoc_gia': 'VN',\n",
       " 'kinh_do': 105.8412,\n",
       " 'vi_do': 21.0245,\n",
       " 'thoi_gian': 'Mon Apr 11 22:47:12 2022',\n",
       " 'nhiet_do': 23,\n",
       " 'do_am': 82,\n",
       " 'ap_suat': 1008,\n",
       " 'huong_gio': 150,\n",
       " 'toc_do_gio': 3.75}"
      ]
     },
     "execution_count": 78,
     "metadata": {},
     "output_type": "execute_result"
    }
   ],
   "source": [
    "json.loads(a)"
   ]
  },
  {
   "cell_type": "code",
   "execution_count": 79,
   "metadata": {},
   "outputs": [],
   "source": [
    "pd.DataFrame(pd.Series(js)).T.to_csv('weather.csv',index=None)"
   ]
  },
  {
   "cell_type": "code",
   "execution_count": null,
   "metadata": {},
   "outputs": [],
   "source": [
    "df="
   ]
  }
 ],
 "metadata": {
  "interpreter": {
   "hash": "183bbf6827d058c2a2fb0f4acdc0420849dda2b4380af0e437e38c64d798d8b7"
  },
  "kernelspec": {
   "display_name": "Python 3.8.8 ('base')",
   "language": "python",
   "name": "python3"
  },
  "language_info": {
   "codemirror_mode": {
    "name": "ipython",
    "version": 3
   },
   "file_extension": ".py",
   "mimetype": "text/x-python",
   "name": "python",
   "nbconvert_exporter": "python",
   "pygments_lexer": "ipython3",
   "version": "3.8.8"
  },
  "orig_nbformat": 4
 },
 "nbformat": 4,
 "nbformat_minor": 2
}
