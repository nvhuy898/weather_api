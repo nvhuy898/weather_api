{
 "cells": [
  {
   "cell_type": "code",
   "execution_count": 2,
   "metadata": {},
   "outputs": [],
   "source": [
    "import pandas as pd\n",
    "import numpy as np\n"
   ]
  },
  {
   "cell_type": "code",
   "execution_count": 3,
   "metadata": {},
   "outputs": [],
   "source": [
    "import requests"
   ]
  },
  {
   "cell_type": "code",
   "execution_count": 5,
   "metadata": {},
   "outputs": [],
   "source": [
    " city='hanoi'\n",
    " r= requests.request(\"POST\",f\"http://localhost:9999/get_weather/{city}\" )"
   ]
  },
  {
   "cell_type": "code",
   "execution_count": 6,
   "metadata": {},
   "outputs": [],
   "source": [
    "import json\n",
    "df=json.loads(r.content)"
   ]
  },
  {
   "cell_type": "code",
   "execution_count": 7,
   "metadata": {},
   "outputs": [],
   "source": [
    "j={\n",
    "    \"ID\": 1581130.0, \n",
    "    \"ten\": \"iot\", \n",
    "    \"quoc_gia\": \"VN\", \n",
    "    \"kinh_do\": 105.8412, \n",
    "    \"vi_do\": 21.0245, \n",
    "    \"thoi_gian\": [2022, 4, 18, 17, 39, 0, 0, 108], \n",
    "    \"nhiet_do\": 26.0, \n",
    "    \"do_am\": 63.0, \n",
    "    \"ap_suat\": 1006.0, \n",
    "    \"huong_gio\": 136.0, \n",
    "    \"toc_do_gio\": \"5.67\"}\n"
   ]
  },
  {
   "cell_type": "code",
   "execution_count": 10,
   "metadata": {},
   "outputs": [
    {
     "data": {
      "text/plain": [
       "{'ID': 1581130.0,\n",
       " 'ten': 'iot',\n",
       " 'quoc_gia': 'VN',\n",
       " 'kinh_do': 105.8412,\n",
       " 'vi_do': 21.0245,\n",
       " 'thoi_gian': [2022, 4, 18, 17, 39, 0, 0, 108],\n",
       " 'nhiet_do': 26.0,\n",
       " 'do_am': 63.0,\n",
       " 'ap_suat': 1006.0,\n",
       " 'huong_gio': 136.0,\n",
       " 'toc_do_gio': '5.67'}"
      ]
     },
     "execution_count": 10,
     "metadata": {},
     "output_type": "execute_result"
    }
   ],
   "source": [
    "import json\n",
    "js=json.dumps(j)\n",
    "jl=json.loads(js)\n",
    "jl"
   ]
  },
  {
   "cell_type": "code",
   "execution_count": 13,
   "metadata": {},
   "outputs": [
    {
     "data": {
      "text/plain": [
       "'Tue Apr 19 00:39:00 2022'"
      ]
     },
     "execution_count": 13,
     "metadata": {},
     "output_type": "execute_result"
    }
   ],
   "source": [
    "import pandas as pd\n",
    "thoi_gian=jl['thoi_gian']\n",
    "# t=np.array(thoi_gian.replace(\"[\",\"\").replace(\"]\",\"\").split(\", \")).astype(int)\n",
    "t=thoi_gian\n",
    "from datetime import datetime\n",
    "d = datetime(t[0],t[1],t[2],t[3],t[4],t[5],)+ pd.Timedelta(hours=7)\n",
    "d.strftime(\"%a %b %d %H:%M:%S %Y\")"
   ]
  },
  {
   "cell_type": "code",
   "execution_count": 1,
   "metadata": {},
   "outputs": [
    {
     "ename": "SyntaxError",
     "evalue": "invalid syntax (<ipython-input-1-2c87988e7c0a>, line 1)",
     "output_type": "error",
     "traceback": [
      "\u001b[1;36m  File \u001b[1;32m\"<ipython-input-1-2c87988e7c0a>\"\u001b[1;36m, line \u001b[1;32m1\u001b[0m\n\u001b[1;33m    Sat Apr 16 18:01:02 2022\u001b[0m\n\u001b[1;37m        ^\u001b[0m\n\u001b[1;31mSyntaxError\u001b[0m\u001b[1;31m:\u001b[0m invalid syntax\n"
     ]
    }
   ],
   "source": [
    "Sat Apr 16 18:01:02 2022\n"
   ]
  },
  {
   "cell_type": "code",
   "execution_count": 20,
   "metadata": {},
   "outputs": [
    {
     "data": {
      "text/html": [
       "<div>\n",
       "<style scoped>\n",
       "    .dataframe tbody tr th:only-of-type {\n",
       "        vertical-align: middle;\n",
       "    }\n",
       "\n",
       "    .dataframe tbody tr th {\n",
       "        vertical-align: top;\n",
       "    }\n",
       "\n",
       "    .dataframe thead th {\n",
       "        text-align: right;\n",
       "    }\n",
       "</style>\n",
       "<table border=\"1\" class=\"dataframe\">\n",
       "  <thead>\n",
       "    <tr style=\"text-align: right;\">\n",
       "      <th></th>\n",
       "      <th>ID</th>\n",
       "      <th>ten</th>\n",
       "      <th>quoc_gia</th>\n",
       "      <th>kinh_do</th>\n",
       "      <th>vi_do</th>\n",
       "      <th>thoi_gian</th>\n",
       "      <th>nhiet_do</th>\n",
       "      <th>do_am</th>\n",
       "      <th>ap_suat</th>\n",
       "      <th>huong_gio</th>\n",
       "      <th>toc_do_gio</th>\n",
       "    </tr>\n",
       "  </thead>\n",
       "  <tbody>\n",
       "    <tr>\n",
       "      <th>0</th>\n",
       "      <td>1581130.0</td>\n",
       "      <td>iot</td>\n",
       "      <td>VN</td>\n",
       "      <td>105.8412</td>\n",
       "      <td>21.0245</td>\n",
       "      <td>[2022, 4, 18, 17, 39, 0, 0, 108]</td>\n",
       "      <td>26.0</td>\n",
       "      <td>63.0</td>\n",
       "      <td>1006.0</td>\n",
       "      <td>136.0</td>\n",
       "      <td>5.67</td>\n",
       "    </tr>\n",
       "  </tbody>\n",
       "</table>\n",
       "</div>"
      ],
      "text/plain": [
       "          ID  ten quoc_gia   kinh_do    vi_do  \\\n",
       "0  1581130.0  iot       VN  105.8412  21.0245   \n",
       "\n",
       "                          thoi_gian nhiet_do do_am ap_suat huong_gio  \\\n",
       "0  [2022, 4, 18, 17, 39, 0, 0, 108]     26.0  63.0  1006.0     136.0   \n",
       "\n",
       "  toc_do_gio  \n",
       "0       5.67  "
      ]
     },
     "execution_count": 20,
     "metadata": {},
     "output_type": "execute_result"
    }
   ],
   "source": [
    "da=pd.DataFrame(pd.Series(jl)).T\n",
    "da"
   ]
  },
  {
   "cell_type": "code",
   "execution_count": 8,
   "metadata": {},
   "outputs": [],
   "source": [
    "da.thoi_gian=da.thoi_gian[:6]"
   ]
  },
  {
   "cell_type": "code",
   "execution_count": null,
   "metadata": {},
   "outputs": [],
   "source": []
  },
  {
   "cell_type": "code",
   "execution_count": 14,
   "metadata": {},
   "outputs": [
    {
     "data": {
      "text/plain": [
       "'[2022, 4, 18, 17, 39, 0, 0, 108]'"
      ]
     },
     "execution_count": 14,
     "metadata": {},
     "output_type": "execute_result"
    }
   ],
   "source": [
    "t=j['thoi_gian']\n",
    "t"
   ]
  },
  {
   "cell_type": "code",
   "execution_count": 6,
   "metadata": {},
   "outputs": [],
   "source": [
    "import pandas as pd\n",
    "data=pd.DataFrame(df,index=None)\n",
    "data.thoi_gian= pd.to_datetime(data.thoi_gian)"
   ]
  },
  {
   "cell_type": "code",
   "execution_count": 7,
   "metadata": {},
   "outputs": [
    {
     "data": {
      "text/plain": [
       "[23.0, 22.0, 23.0, 22.0, 23.0, 24.0, 24.0, 25.0, 25.0, 25.0, 25.0, 23.0]"
      ]
     },
     "execution_count": 7,
     "metadata": {},
     "output_type": "execute_result"
    }
   ],
   "source": [
    "df=data\n",
    "list(df.nhiet_do)"
   ]
  },
  {
   "cell_type": "code",
   "execution_count": 8,
   "metadata": {},
   "outputs": [
    {
     "name": "stdout",
     "output_type": "stream",
     "text": [
      "Model: \"sequential\"\n",
      "_________________________________________________________________\n",
      " Layer (type)                Output Shape              Param #   \n",
      "=================================================================\n",
      " lstm (LSTM)                 (None, 12, 50)            10400     \n",
      "                                                                 \n",
      " dropout (Dropout)           (None, 12, 50)            0         \n",
      "                                                                 \n",
      " lstm_1 (LSTM)               (None, 50)                20200     \n",
      "                                                                 \n",
      " dropout_1 (Dropout)         (None, 50)                0         \n",
      "                                                                 \n",
      " dense (Dense)               (None, 1)                 51        \n",
      "                                                                 \n",
      "=================================================================\n",
      "Total params: 30,651\n",
      "Trainable params: 30,651\n",
      "Non-trainable params: 0\n",
      "_________________________________________________________________\n"
     ]
    }
   ],
   "source": [
    "import numpy as np\n",
    "import pandas as pd\n",
    "import matplotlib.pyplot as plt \n",
    "import tensorflow as tf\n",
    "from tensorflow import keras\n",
    "from keras.models import Sequential\n",
    "from keras.layers import Dense\n",
    "from keras.layers import LSTM\n",
    "from keras.layers import Dropout\n",
    "\n",
    "# from keras.models import load_model\n",
    "# Xay dung model LSTM\n",
    "model = Sequential()\n",
    "model.add(LSTM(units = 50, return_sequences = True, input_shape = (12,1),activation='sigmoid'))\n",
    "model.add(Dropout(0.3))\n",
    "# model.add(LSTM(units = 50, return_sequences = True,activation='sigmoid'))\n",
    "# model.add(Dropout(0.3))\n",
    "# model.add(LSTM(units = 50, return_sequences = True))\n",
    "# model.add(Dropout(0.3))\n",
    "model.add(LSTM(units = 50,activation='sigmoid', ))\n",
    "model.add(Dropout(0.2))\n",
    "model.add(Dense(units = 1))\n",
    "\n",
    "opt = keras.optimizers.Adam(learning_rate=0.01)\n",
    "model.compile(optimizer = opt, loss = 'mean_squared_error')\n",
    "model.summary()"
   ]
  },
  {
   "cell_type": "code",
   "execution_count": 9,
   "metadata": {},
   "outputs": [],
   "source": [
    "model=keras.models.load_model('./weights/nhiet_do.h5')"
   ]
  },
  {
   "cell_type": "code",
   "execution_count": 10,
   "metadata": {},
   "outputs": [
    {
     "name": "stdout",
     "output_type": "stream",
     "text": [
      "Model: \"sequential_10\"\n",
      "_________________________________________________________________\n",
      " Layer (type)                Output Shape              Param #   \n",
      "=================================================================\n",
      " lstm_21 (LSTM)              (None, 12, 50)            10400     \n",
      "                                                                 \n",
      " dropout_7 (Dropout)         (None, 12, 50)            0         \n",
      "                                                                 \n",
      " lstm_22 (LSTM)              (None, 50)                20200     \n",
      "                                                                 \n",
      " dropout_8 (Dropout)         (None, 50)                0         \n",
      "                                                                 \n",
      " dense_9 (Dense)             (None, 1)                 51        \n",
      "                                                                 \n",
      "=================================================================\n",
      "Total params: 30,651\n",
      "Trainable params: 30,651\n",
      "Non-trainable params: 0\n",
      "_________________________________________________________________\n"
     ]
    }
   ],
   "source": [
    "model.summary()"
   ]
  },
  {
   "cell_type": "code",
   "execution_count": 11,
   "metadata": {},
   "outputs": [],
   "source": [
    "from collections import deque\n",
    "X=deque(list(df.nhiet_do), maxlen=12)"
   ]
  },
  {
   "cell_type": "code",
   "execution_count": 50,
   "metadata": {},
   "outputs": [],
   "source": [
    "from collections import deque\n",
    "X=deque(list(df.nhiet_do), maxlen=12)\n",
    "y=[]\n",
    "for i in range(6):\n",
    "    p=(model.predict(np.array([list(X)]))[0][0])\n",
    "    y.append(float(int(p)))\n",
    "    X.append(p)"
   ]
  },
  {
   "cell_type": "code",
   "execution_count": 51,
   "metadata": {},
   "outputs": [
    {
     "data": {
      "text/plain": [
       "[21.0, 20.0, 18.0, 17.0, 16.0, 15.0]"
      ]
     },
     "execution_count": 51,
     "metadata": {},
     "output_type": "execute_result"
    }
   ],
   "source": [
    "y\n"
   ]
  },
  {
   "cell_type": "code",
   "execution_count": 13,
   "metadata": {},
   "outputs": [],
   "source": [
    "# X.appendleft(model.predict(np.array([list(X)])))"
   ]
  },
  {
   "cell_type": "code",
   "execution_count": 14,
   "metadata": {},
   "outputs": [
    {
     "data": {
      "text/plain": [
       "array([[21.740032]], dtype=float32)"
      ]
     },
     "execution_count": 14,
     "metadata": {},
     "output_type": "execute_result"
    }
   ],
   "source": [
    "model.predict(np.array([list(X)]))"
   ]
  },
  {
   "cell_type": "code",
   "execution_count": 15,
   "metadata": {},
   "outputs": [
    {
     "data": {
      "text/plain": [
       "(None, 12, 1)"
      ]
     },
     "execution_count": 15,
     "metadata": {},
     "output_type": "execute_result"
    }
   ],
   "source": [
    "model.input_shape"
   ]
  },
  {
   "cell_type": "code",
   "execution_count": 16,
   "metadata": {},
   "outputs": [
    {
     "data": {
      "text/plain": [
       "'2.8.0'"
      ]
     },
     "execution_count": 16,
     "metadata": {},
     "output_type": "execute_result"
    }
   ],
   "source": [
    "keras.__version__"
   ]
  },
  {
   "cell_type": "code",
   "execution_count": 17,
   "metadata": {},
   "outputs": [
    {
     "data": {
      "text/plain": [
       "(2, 12)"
      ]
     },
     "execution_count": 17,
     "metadata": {},
     "output_type": "execute_result"
    }
   ],
   "source": [
    "import numpy as np\n",
    "t=np.array([list(X),list(X)])\n",
    "t.shape"
   ]
  },
  {
   "cell_type": "code",
   "execution_count": 18,
   "metadata": {},
   "outputs": [
    {
     "name": "stdout",
     "output_type": "stream",
     "text": [
      "Model: \"sequential_10\"\n",
      "_________________________________________________________________\n",
      " Layer (type)                Output Shape              Param #   \n",
      "=================================================================\n",
      " lstm_21 (LSTM)              (None, 12, 50)            10400     \n",
      "                                                                 \n",
      " dropout_7 (Dropout)         (None, 12, 50)            0         \n",
      "                                                                 \n",
      " lstm_22 (LSTM)              (None, 50)                20200     \n",
      "                                                                 \n",
      " dropout_8 (Dropout)         (None, 50)                0         \n",
      "                                                                 \n",
      " dense_9 (Dense)             (None, 1)                 51        \n",
      "                                                                 \n",
      "=================================================================\n",
      "Total params: 30,651\n",
      "Trainable params: 30,651\n",
      "Non-trainable params: 0\n",
      "_________________________________________________________________\n"
     ]
    }
   ],
   "source": [
    "model.summary()"
   ]
  },
  {
   "cell_type": "code",
   "execution_count": 19,
   "metadata": {},
   "outputs": [
    {
     "data": {
      "text/plain": [
       "array([[21.740032],\n",
       "       [21.740032]], dtype=float32)"
      ]
     },
     "execution_count": 19,
     "metadata": {},
     "output_type": "execute_result"
    }
   ],
   "source": [
    "model.predict(t)"
   ]
  },
  {
   "cell_type": "code",
   "execution_count": 20,
   "metadata": {},
   "outputs": [
    {
     "data": {
      "text/plain": [
       "array([[23., 22., 23., 22., 23., 24., 24., 25., 25., 25., 25., 23.],\n",
       "       [23., 22., 23., 22., 23., 24., 24., 25., 25., 25., 25., 23.]])"
      ]
     },
     "execution_count": 20,
     "metadata": {},
     "output_type": "execute_result"
    }
   ],
   "source": [
    "t"
   ]
  },
  {
   "cell_type": "code",
   "execution_count": 24,
   "metadata": {},
   "outputs": [],
   "source": [
    "import tensorflow as tf\n",
    "import numpy as np\n",
    "from tensorflow import keras\n",
    "regressor=keras.models.load_model(\"weights/nhiet_do.h5\")\n",
    "from collections import deque\n",
    "X=deque([23.0, 22.0, 23.0, 22.0, 23.0, 24.0, 24.0, 25.0, 25.0, 25.0, 25.0, 23.0], maxlen=12)\n",
    "X.append(int(regressor.predict(np.array([list(X)]))[0][0]))"
   ]
  },
  {
   "cell_type": "code",
   "execution_count": 25,
   "metadata": {},
   "outputs": [
    {
     "data": {
      "text/plain": [
       "deque([22.0, 23.0, 22.0, 23.0, 24.0, 24.0, 25.0, 25.0, 25.0, 25.0, 23.0, 21])"
      ]
     },
     "execution_count": 25,
     "metadata": {},
     "output_type": "execute_result"
    }
   ],
   "source": [
    "X"
   ]
  },
  {
   "cell_type": "code",
   "execution_count": 32,
   "metadata": {},
   "outputs": [
    {
     "ename": "TypeError",
     "evalue": "'NoneType' object is not iterable",
     "output_type": "error",
     "traceback": [
      "\u001b[1;31m---------------------------------------------------------------------------\u001b[0m",
      "\u001b[1;31mTypeError\u001b[0m                                 Traceback (most recent call last)",
      "\u001b[1;32m<ipython-input-32-0a2c707eb70b>\u001b[0m in \u001b[0;36m<module>\u001b[1;34m\u001b[0m\n\u001b[1;32m----> 1\u001b[1;33m \u001b[0mmin\u001b[0m\u001b[1;33m(\u001b[0m\u001b[0mlist\u001b[0m\u001b[1;33m(\u001b[0m\u001b[0mdf\u001b[0m\u001b[1;33m.\u001b[0m\u001b[0mnhiet_do\u001b[0m\u001b[1;33m)\u001b[0m\u001b[1;33m.\u001b[0m\u001b[0mextend\u001b[0m\u001b[1;33m(\u001b[0m\u001b[0my\u001b[0m\u001b[1;33m)\u001b[0m\u001b[1;33m)\u001b[0m\u001b[1;33m\u001b[0m\u001b[1;33m\u001b[0m\u001b[0m\n\u001b[0m",
      "\u001b[1;31mTypeError\u001b[0m: 'NoneType' object is not iterable"
     ]
    }
   ],
   "source": [
    "list(df.nhiet_do)min(.extend(y))"
   ]
  },
  {
   "cell_type": "code",
   "execution_count": 53,
   "metadata": {},
   "outputs": [
    {
     "name": "stdout",
     "output_type": "stream",
     "text": [
      "[23.0, 22.0, 23.0, 22.0, 23.0, 24.0, 24.0, 25.0, 25.0, 25.0, 25.0, 23.0]\n",
      "[21.0, 20.0, 18.0, 17.0, 16.0, 15.0]\n"
     ]
    },
    {
     "data": {
      "text/plain": [
       "(11.0, 29.0)"
      ]
     },
     "execution_count": 53,
     "metadata": {},
     "output_type": "execute_result"
    },
    {
     "data": {
      "image/png": "[encoded data removed]",
      "text/plain": [
       "<Figure size 432x288 with 1 Axes>"
      ]
     },
     "metadata": {
      "needs_background": "light"
     },
     "output_type": "display_data"
    }
   ],
   "source": [
    "nhiet_do=list(df.nhiet_do)\n",
    "print(nhiet_do)\n",
    "print(y)\n",
    "nhiet_do.extend(y)\n",
    "plt.ylim(min(nhiet_do) - 4, max(nhiet_do) + 4)"
   ]
  },
  {
   "cell_type": "code",
   "execution_count": 38,
   "metadata": {},
   "outputs": [
    {
     "data": {
      "text/plain": [
       "[19, 17, 16, 15, 15, 14]"
      ]
     },
     "execution_count": 38,
     "metadata": {},
     "output_type": "execute_result"
    }
   ],
   "source": [
    "y"
   ]
  },
  {
   "cell_type": "code",
   "execution_count": 39,
   "metadata": {},
   "outputs": [
    {
     "ename": "TypeError",
     "evalue": "float() argument must be a string or a number, not 'list'",
     "output_type": "error",
     "traceback": [
      "\u001b[1;31m---------------------------------------------------------------------------\u001b[0m",
      "\u001b[1;31mTypeError\u001b[0m                                 Traceback (most recent call last)",
      "\u001b[1;32m<ipython-input-39-28db254ea52a>\u001b[0m in \u001b[0;36m<module>\u001b[1;34m\u001b[0m\n\u001b[1;32m----> 1\u001b[1;33m \u001b[0mfloat\u001b[0m\u001b[1;33m(\u001b[0m\u001b[0my\u001b[0m\u001b[1;33m)\u001b[0m\u001b[1;33m\u001b[0m\u001b[1;33m\u001b[0m\u001b[0m\n\u001b[0m",
      "\u001b[1;31mTypeError\u001b[0m: float() argument must be a string or a number, not 'list'"
     ]
    }
   ],
   "source": [
    "float(y)"
   ]
  },
  {
   "cell_type": "code",
   "execution_count": null,
   "metadata": {},
   "outputs": [],
   "source": []
  },
  {
   "cell_type": "code",
   "execution_count": null,
   "metadata": {},
   "outputs": [],
   "source": []
  },
  {
   "cell_type": "code",
   "execution_count": null,
   "metadata": {},
   "outputs": [],
   "source": []
  },
  {
   "cell_type": "code",
   "execution_count": 1,
   "metadata": {},
   "outputs": [],
   "source": [
    "import pandas as pd"
   ]
  },
  {
   "cell_type": "code",
   "execution_count": 15,
   "metadata": {},
   "outputs": [],
   "source": [
    "tran=pd.read_excel('thoitiet.xlsx')"
   ]
  },
  {
   "cell_type": "code",
   "execution_count": 16,
   "metadata": {},
   "outputs": [
    {
     "data": {
      "text/plain": [
       "array(['Ít mây', 'Nhiều mây', 'Có sương mù', 'Trời nắng', 'Có mưa'],\n",
       "      dtype=object)"
      ]
     },
     "execution_count": 16,
     "metadata": {},
     "output_type": "execute_result"
    }
   ],
   "source": [
    "tran.V.unique()"
   ]
  },
  {
   "cell_type": "code",
   "execution_count": 18,
   "metadata": {},
   "outputs": [],
   "source": [
    "label={}\n",
    "for i in range(len(tran)):\n",
    "    label[tran.E[i]]=tran.V[i]\n"
   ]
  },
  {
   "cell_type": "code",
   "execution_count": 19,
   "metadata": {},
   "outputs": [
    {
     "data": {
      "text/plain": [
       "{'Partly Cloudy': 'Ít mây',\n",
       " 'Mostly Cloudy': 'Nhiều mây',\n",
       " 'Overcast': 'Nhiều mây',\n",
       " 'Foggy': 'Có sương mù',\n",
       " 'Breezy and Mostly Cloudy': 'Nhiều mây',\n",
       " 'Clear': 'Trời nắng',\n",
       " 'Breezy and Partly Cloudy': 'Ít mây',\n",
       " 'Breezy and Overcast': 'Nhiều mây',\n",
       " 'Humid and Mostly Cloudy': 'Nhiều mây',\n",
       " 'Humid and Partly Cloudy': 'Ít mây',\n",
       " 'Windy and Foggy': 'Có sương mù',\n",
       " 'Windy and Overcast': 'Nhiều mây',\n",
       " 'Breezy and Foggy': 'Có sương mù',\n",
       " 'Windy and Partly Cloudy': 'Ít mây',\n",
       " 'Breezy': 'Trời nắng',\n",
       " 'Dry and Partly Cloudy': 'Ít mây',\n",
       " 'Windy and Mostly Cloudy': 'Nhiều mây',\n",
       " 'Dangerously Windy and Partly Cloudy': 'Ít mây',\n",
       " 'Dry': 'Trời nắng',\n",
       " 'Windy': 'Trời nắng',\n",
       " 'Humid and Overcast': 'Ít mây',\n",
       " 'Light Rain': 'Có mưa',\n",
       " 'Drizzle': 'Có mưa',\n",
       " 'Windy and Dry': 'Trời nắng',\n",
       " 'Dry and Mostly Cloudy': 'Nhiều mây',\n",
       " 'Breezy and Dry': 'Trời nắng',\n",
       " 'Rain': 'Có mưa'}"
      ]
     },
     "execution_count": 19,
     "metadata": {},
     "output_type": "execute_result"
    }
   ],
   "source": [
    "label"
   ]
  },
  {
   "cell_type": "code",
   "execution_count": 76,
   "metadata": {},
   "outputs": [],
   "source": [
    "df=pd.read_csv('weatherHistory.csv')"
   ]
  },
  {
   "cell_type": "code",
   "execution_count": 77,
   "metadata": {},
   "outputs": [
    {
     "data": {
      "text/plain": [
       "Index(['Formatted Date', 'Summary', 'Precip Type', 'Temperature (C)',\n",
       "       'Apparent Temperature (C)', 'Humidity', 'Wind Speed (km/h)',\n",
       "       'Wind Bearing (degrees)', 'Visibility (km)', 'Loud Cover',\n",
       "       'Pressure (millibars)', 'Daily Summary'],\n",
       "      dtype='object')"
      ]
     },
     "execution_count": 77,
     "metadata": {},
     "output_type": "execute_result"
    }
   ],
   "source": [
    " df.columns"
   ]
  },
  {
   "cell_type": "code",
   "execution_count": 78,
   "metadata": {},
   "outputs": [],
   "source": [
    "df=df.rename(columns={'Formatted Date':'thoi_gian',\"Summary\": \"thoi_tiet\", \"Temperature (C)\": \"nhiet_do\",'Humidity':'do_am','Wind Speed (km/h)':'toc_do_gio','Wind Bearing (degrees)':'huong_gio','Pressure (millibars)':'ap_suat'})"
   ]
  },
  {
   "cell_type": "code",
   "execution_count": 79,
   "metadata": {},
   "outputs": [
    {
     "data": {
      "text/html": [
       "<div>\n",
       "<style scoped>\n",
       "    .dataframe tbody tr th:only-of-type {\n",
       "        vertical-align: middle;\n",
       "    }\n",
       "\n",
       "    .dataframe tbody tr th {\n",
       "        vertical-align: top;\n",
       "    }\n",
       "\n",
       "    .dataframe thead th {\n",
       "        text-align: right;\n",
       "    }\n",
       "</style>\n",
       "<table border=\"1\" class=\"dataframe\">\n",
       "  <thead>\n",
       "    <tr style=\"text-align: right;\">\n",
       "      <th></th>\n",
       "      <th>thoi_gian</th>\n",
       "      <th>thoi_tiet</th>\n",
       "      <th>Precip Type</th>\n",
       "      <th>nhiet_do</th>\n",
       "      <th>Apparent Temperature (C)</th>\n",
       "      <th>do_am</th>\n",
       "      <th>toc_do_gio</th>\n",
       "      <th>huong_gio</th>\n",
       "      <th>Visibility (km)</th>\n",
       "      <th>Loud Cover</th>\n",
       "      <th>ap_suat</th>\n",
       "      <th>Daily Summary</th>\n",
       "    </tr>\n",
       "  </thead>\n",
       "  <tbody>\n",
       "    <tr>\n",
       "      <th>0</th>\n",
       "      <td>2006-04-01 00:00:00.000 +0200</td>\n",
       "      <td>Partly Cloudy</td>\n",
       "      <td>rain</td>\n",
       "      <td>9.472222</td>\n",
       "      <td>7.388889</td>\n",
       "      <td>0.89</td>\n",
       "      <td>14.1197</td>\n",
       "      <td>251.0</td>\n",
       "      <td>15.8263</td>\n",
       "      <td>0.0</td>\n",
       "      <td>1015.13</td>\n",
       "      <td>Partly cloudy throughout the day.</td>\n",
       "    </tr>\n",
       "    <tr>\n",
       "      <th>1</th>\n",
       "      <td>2006-04-01 01:00:00.000 +0200</td>\n",
       "      <td>Partly Cloudy</td>\n",
       "      <td>rain</td>\n",
       "      <td>9.355556</td>\n",
       "      <td>7.227778</td>\n",
       "      <td>0.86</td>\n",
       "      <td>14.2646</td>\n",
       "      <td>259.0</td>\n",
       "      <td>15.8263</td>\n",
       "      <td>0.0</td>\n",
       "      <td>1015.63</td>\n",
       "      <td>Partly cloudy throughout the day.</td>\n",
       "    </tr>\n",
       "    <tr>\n",
       "      <th>2</th>\n",
       "      <td>2006-04-01 02:00:00.000 +0200</td>\n",
       "      <td>Mostly Cloudy</td>\n",
       "      <td>rain</td>\n",
       "      <td>9.377778</td>\n",
       "      <td>9.377778</td>\n",
       "      <td>0.89</td>\n",
       "      <td>3.9284</td>\n",
       "      <td>204.0</td>\n",
       "      <td>14.9569</td>\n",
       "      <td>0.0</td>\n",
       "      <td>1015.94</td>\n",
       "      <td>Partly cloudy throughout the day.</td>\n",
       "    </tr>\n",
       "    <tr>\n",
       "      <th>3</th>\n",
       "      <td>2006-04-01 03:00:00.000 +0200</td>\n",
       "      <td>Partly Cloudy</td>\n",
       "      <td>rain</td>\n",
       "      <td>8.288889</td>\n",
       "      <td>5.944444</td>\n",
       "      <td>0.83</td>\n",
       "      <td>14.1036</td>\n",
       "      <td>269.0</td>\n",
       "      <td>15.8263</td>\n",
       "      <td>0.0</td>\n",
       "      <td>1016.41</td>\n",
       "      <td>Partly cloudy throughout the day.</td>\n",
       "    </tr>\n",
       "    <tr>\n",
       "      <th>4</th>\n",
       "      <td>2006-04-01 04:00:00.000 +0200</td>\n",
       "      <td>Mostly Cloudy</td>\n",
       "      <td>rain</td>\n",
       "      <td>8.755556</td>\n",
       "      <td>6.977778</td>\n",
       "      <td>0.83</td>\n",
       "      <td>11.0446</td>\n",
       "      <td>259.0</td>\n",
       "      <td>15.8263</td>\n",
       "      <td>0.0</td>\n",
       "      <td>1016.51</td>\n",
       "      <td>Partly cloudy throughout the day.</td>\n",
       "    </tr>\n",
       "    <tr>\n",
       "      <th>...</th>\n",
       "      <td>...</td>\n",
       "      <td>...</td>\n",
       "      <td>...</td>\n",
       "      <td>...</td>\n",
       "      <td>...</td>\n",
       "      <td>...</td>\n",
       "      <td>...</td>\n",
       "      <td>...</td>\n",
       "      <td>...</td>\n",
       "      <td>...</td>\n",
       "      <td>...</td>\n",
       "      <td>...</td>\n",
       "    </tr>\n",
       "    <tr>\n",
       "      <th>96448</th>\n",
       "      <td>2016-09-09 19:00:00.000 +0200</td>\n",
       "      <td>Partly Cloudy</td>\n",
       "      <td>rain</td>\n",
       "      <td>26.016667</td>\n",
       "      <td>26.016667</td>\n",
       "      <td>0.43</td>\n",
       "      <td>10.9963</td>\n",
       "      <td>31.0</td>\n",
       "      <td>16.1000</td>\n",
       "      <td>0.0</td>\n",
       "      <td>1014.36</td>\n",
       "      <td>Partly cloudy starting in the morning.</td>\n",
       "    </tr>\n",
       "    <tr>\n",
       "      <th>96449</th>\n",
       "      <td>2016-09-09 20:00:00.000 +0200</td>\n",
       "      <td>Partly Cloudy</td>\n",
       "      <td>rain</td>\n",
       "      <td>24.583333</td>\n",
       "      <td>24.583333</td>\n",
       "      <td>0.48</td>\n",
       "      <td>10.0947</td>\n",
       "      <td>20.0</td>\n",
       "      <td>15.5526</td>\n",
       "      <td>0.0</td>\n",
       "      <td>1015.16</td>\n",
       "      <td>Partly cloudy starting in the morning.</td>\n",
       "    </tr>\n",
       "    <tr>\n",
       "      <th>96450</th>\n",
       "      <td>2016-09-09 21:00:00.000 +0200</td>\n",
       "      <td>Partly Cloudy</td>\n",
       "      <td>rain</td>\n",
       "      <td>22.038889</td>\n",
       "      <td>22.038889</td>\n",
       "      <td>0.56</td>\n",
       "      <td>8.9838</td>\n",
       "      <td>30.0</td>\n",
       "      <td>16.1000</td>\n",
       "      <td>0.0</td>\n",
       "      <td>1015.66</td>\n",
       "      <td>Partly cloudy starting in the morning.</td>\n",
       "    </tr>\n",
       "    <tr>\n",
       "      <th>96451</th>\n",
       "      <td>2016-09-09 22:00:00.000 +0200</td>\n",
       "      <td>Partly Cloudy</td>\n",
       "      <td>rain</td>\n",
       "      <td>21.522222</td>\n",
       "      <td>21.522222</td>\n",
       "      <td>0.60</td>\n",
       "      <td>10.5294</td>\n",
       "      <td>20.0</td>\n",
       "      <td>16.1000</td>\n",
       "      <td>0.0</td>\n",
       "      <td>1015.95</td>\n",
       "      <td>Partly cloudy starting in the morning.</td>\n",
       "    </tr>\n",
       "    <tr>\n",
       "      <th>96452</th>\n",
       "      <td>2016-09-09 23:00:00.000 +0200</td>\n",
       "      <td>Partly Cloudy</td>\n",
       "      <td>rain</td>\n",
       "      <td>20.438889</td>\n",
       "      <td>20.438889</td>\n",
       "      <td>0.61</td>\n",
       "      <td>5.8765</td>\n",
       "      <td>39.0</td>\n",
       "      <td>15.5204</td>\n",
       "      <td>0.0</td>\n",
       "      <td>1016.16</td>\n",
       "      <td>Partly cloudy starting in the morning.</td>\n",
       "    </tr>\n",
       "  </tbody>\n",
       "</table>\n",
       "<p>96453 rows × 12 columns</p>\n",
       "</div>"
      ],
      "text/plain": [
       "                           thoi_gian      thoi_tiet Precip Type   nhiet_do  \\\n",
       "0      2006-04-01 00:00:00.000 +0200  Partly Cloudy        rain   9.472222   \n",
       "1      2006-04-01 01:00:00.000 +0200  Partly Cloudy        rain   9.355556   \n",
       "2      2006-04-01 02:00:00.000 +0200  Mostly Cloudy        rain   9.377778   \n",
       "3      2006-04-01 03:00:00.000 +0200  Partly Cloudy        rain   8.288889   \n",
       "4      2006-04-01 04:00:00.000 +0200  Mostly Cloudy        rain   8.755556   \n",
       "...                              ...            ...         ...        ...   \n",
       "96448  2016-09-09 19:00:00.000 +0200  Partly Cloudy        rain  26.016667   \n",
       "96449  2016-09-09 20:00:00.000 +0200  Partly Cloudy        rain  24.583333   \n",
       "96450  2016-09-09 21:00:00.000 +0200  Partly Cloudy        rain  22.038889   \n",
       "96451  2016-09-09 22:00:00.000 +0200  Partly Cloudy        rain  21.522222   \n",
       "96452  2016-09-09 23:00:00.000 +0200  Partly Cloudy        rain  20.438889   \n",
       "\n",
       "       Apparent Temperature (C)  do_am  toc_do_gio  huong_gio  \\\n",
       "0                      7.388889   0.89     14.1197      251.0   \n",
       "1                      7.227778   0.86     14.2646      259.0   \n",
       "2                      9.377778   0.89      3.9284      204.0   \n",
       "3                      5.944444   0.83     14.1036      269.0   \n",
       "4                      6.977778   0.83     11.0446      259.0   \n",
       "...                         ...    ...         ...        ...   \n",
       "96448                 26.016667   0.43     10.9963       31.0   \n",
       "96449                 24.583333   0.48     10.0947       20.0   \n",
       "96450                 22.038889   0.56      8.9838       30.0   \n",
       "96451                 21.522222   0.60     10.5294       20.0   \n",
       "96452                 20.438889   0.61      5.8765       39.0   \n",
       "\n",
       "       Visibility (km)  Loud Cover  ap_suat  \\\n",
       "0              15.8263         0.0  1015.13   \n",
       "1              15.8263         0.0  1015.63   \n",
       "2              14.9569         0.0  1015.94   \n",
       "3              15.8263         0.0  1016.41   \n",
       "4              15.8263         0.0  1016.51   \n",
       "...                ...         ...      ...   \n",
       "96448          16.1000         0.0  1014.36   \n",
       "96449          15.5526         0.0  1015.16   \n",
       "96450          16.1000         0.0  1015.66   \n",
       "96451          16.1000         0.0  1015.95   \n",
       "96452          15.5204         0.0  1016.16   \n",
       "\n",
       "                                Daily Summary  \n",
       "0           Partly cloudy throughout the day.  \n",
       "1           Partly cloudy throughout the day.  \n",
       "2           Partly cloudy throughout the day.  \n",
       "3           Partly cloudy throughout the day.  \n",
       "4           Partly cloudy throughout the day.  \n",
       "...                                       ...  \n",
       "96448  Partly cloudy starting in the morning.  \n",
       "96449  Partly cloudy starting in the morning.  \n",
       "96450  Partly cloudy starting in the morning.  \n",
       "96451  Partly cloudy starting in the morning.  \n",
       "96452  Partly cloudy starting in the morning.  \n",
       "\n",
       "[96453 rows x 12 columns]"
      ]
     },
     "execution_count": 79,
     "metadata": {},
     "output_type": "execute_result"
    }
   ],
   "source": [
    "df"
   ]
  },
  {
   "cell_type": "code",
   "execution_count": 84,
   "metadata": {},
   "outputs": [
    {
     "data": {
      "text/plain": [
       "array(['Ít mây', 'Nhiều mây', 'Có sương mù', 'Trời nắng', 'Có mưa'],\n",
       "      dtype=object)"
      ]
     },
     "execution_count": 84,
     "metadata": {},
     "output_type": "execute_result"
    }
   ],
   "source": [
    "d=df[['nhiet_do','do_am','toc_do_gio','huong_gio','ap_suat','thoi_tiet']]\n",
    "d.thoi_tiet=d.thoi_tiet.replace(label)\n",
    "d.thoi_tiet.unique()\n",
    "# d.thoi_gian=pd.to_datetime(d.thoi_gian, errors='coerce')\n",
    "# d.info()"
   ]
  },
  {
   "cell_type": "code",
   "execution_count": 85,
   "metadata": {},
   "outputs": [
    {
     "ename": "AttributeError",
     "evalue": "'DataFrame' object has no attribute 'thoi_gian'",
     "output_type": "error",
     "traceback": [
      "\u001b[1;31m---------------------------------------------------------------------------\u001b[0m",
      "\u001b[1;31mAttributeError\u001b[0m                            Traceback (most recent call last)",
      "\u001b[1;32m<ipython-input-85-aa6b31102a65>\u001b[0m in \u001b[0;36m<module>\u001b[1;34m\u001b[0m\n\u001b[1;32m----> 1\u001b[1;33m \u001b[0md\u001b[0m\u001b[1;33m.\u001b[0m\u001b[0mthoi_gian\u001b[0m\u001b[1;33m.\u001b[0m\u001b[0mdt\u001b[0m\u001b[1;33m.\u001b[0m\u001b[0mhour\u001b[0m\u001b[1;33m\u001b[0m\u001b[1;33m\u001b[0m\u001b[0m\n\u001b[0m",
      "\u001b[1;32m~\\anaconda3\\lib\\site-packages\\pandas\\core\\generic.py\u001b[0m in \u001b[0;36m__getattr__\u001b[1;34m(self, name)\u001b[0m\n\u001b[0;32m   5463\u001b[0m             \u001b[1;32mif\u001b[0m \u001b[0mself\u001b[0m\u001b[1;33m.\u001b[0m\u001b[0m_info_axis\u001b[0m\u001b[1;33m.\u001b[0m\u001b[0m_can_hold_identifiers_and_holds_name\u001b[0m\u001b[1;33m(\u001b[0m\u001b[0mname\u001b[0m\u001b[1;33m)\u001b[0m\u001b[1;33m:\u001b[0m\u001b[1;33m\u001b[0m\u001b[1;33m\u001b[0m\u001b[0m\n\u001b[0;32m   5464\u001b[0m                 \u001b[1;32mreturn\u001b[0m \u001b[0mself\u001b[0m\u001b[1;33m[\u001b[0m\u001b[0mname\u001b[0m\u001b[1;33m]\u001b[0m\u001b[1;33m\u001b[0m\u001b[1;33m\u001b[0m\u001b[0m\n\u001b[1;32m-> 5465\u001b[1;33m             \u001b[1;32mreturn\u001b[0m \u001b[0mobject\u001b[0m\u001b[1;33m.\u001b[0m\u001b[0m__getattribute__\u001b[0m\u001b[1;33m(\u001b[0m\u001b[0mself\u001b[0m\u001b[1;33m,\u001b[0m \u001b[0mname\u001b[0m\u001b[1;33m)\u001b[0m\u001b[1;33m\u001b[0m\u001b[1;33m\u001b[0m\u001b[0m\n\u001b[0m\u001b[0;32m   5466\u001b[0m \u001b[1;33m\u001b[0m\u001b[0m\n\u001b[0;32m   5467\u001b[0m     \u001b[1;32mdef\u001b[0m \u001b[0m__setattr__\u001b[0m\u001b[1;33m(\u001b[0m\u001b[0mself\u001b[0m\u001b[1;33m,\u001b[0m \u001b[0mname\u001b[0m\u001b[1;33m:\u001b[0m \u001b[0mstr\u001b[0m\u001b[1;33m,\u001b[0m \u001b[0mvalue\u001b[0m\u001b[1;33m)\u001b[0m \u001b[1;33m->\u001b[0m \u001b[1;32mNone\u001b[0m\u001b[1;33m:\u001b[0m\u001b[1;33m\u001b[0m\u001b[1;33m\u001b[0m\u001b[0m\n",
      "\u001b[1;31mAttributeError\u001b[0m: 'DataFrame' object has no attribute 'thoi_gian'"
     ]
    }
   ],
   "source": [
    "d.thoi_gian.dt.hour"
   ]
  },
  {
   "cell_type": "code",
   "execution_count": 58,
   "metadata": {},
   "outputs": [
    {
     "data": {
      "text/plain": [
       "{'Partly Cloudy': 'Ít mây',\n",
       " 'Mostly Cloudy': 'Nhiều mây',\n",
       " 'Overcast': 'Nhiều mây',\n",
       " 'Foggy': 'Có sương mù',\n",
       " 'Breezy and Mostly Cloudy': 'Nhiều mây',\n",
       " 'Clear': 'Trời nắng',\n",
       " 'Breezy and Partly Cloudy': 'Ít mây',\n",
       " 'Breezy and Overcast': 'Nhiều mây',\n",
       " 'Humid and Mostly Cloudy': 'Nhiều mây',\n",
       " 'Humid and Partly Cloudy': 'Ít mây',\n",
       " 'Windy and Foggy': 'Có sương mù',\n",
       " 'Windy and Overcast': 'Nhiều mây',\n",
       " 'Breezy and Foggy': 'Có sương mù',\n",
       " 'Windy and Partly Cloudy': 'Ít mây',\n",
       " 'Breezy': 'Trời nắng',\n",
       " 'Dry and Partly Cloudy': 'Ít mây',\n",
       " 'Windy and Mostly Cloudy': 'Nhiều mây',\n",
       " 'Dangerously Windy and Partly Cloudy': 'Ít mây',\n",
       " 'Dry': 'Trời nắng',\n",
       " 'Windy': 'Trời nắng',\n",
       " 'Humid and Overcast': 'Ít mây',\n",
       " 'Light Rain': 'Có mưa',\n",
       " 'Drizzle': 'Có mưa',\n",
       " 'Windy and Dry': 'Trời nắng',\n",
       " 'Dry and Mostly Cloudy': 'Nhiều mây',\n",
       " 'Breezy and Dry': 'Trời nắng',\n",
       " 'Rain': 'Có mưa'}"
      ]
     },
     "execution_count": 58,
     "metadata": {},
     "output_type": "execute_result"
    }
   ],
   "source": [
    "label"
   ]
  },
  {
   "cell_type": "code",
   "execution_count": 60,
   "metadata": {},
   "outputs": [],
   "source": [
    "d.to_csv('train.csv',index=False)"
   ]
  },
  {
   "cell_type": "code",
   "execution_count": 68,
   "metadata": {},
   "outputs": [
    {
     "ename": "AttributeError",
     "evalue": "type object 'datetime.datetime' has no attribute 'dt'",
     "output_type": "error",
     "traceback": [
      "\u001b[1;31m---------------------------------------------------------------------------\u001b[0m",
      "\u001b[1;31mAttributeError\u001b[0m                            Traceback (most recent call last)",
      "\u001b[1;32m<ipython-input-68-b9e6a03daddc>\u001b[0m in \u001b[0;36m<module>\u001b[1;34m\u001b[0m\n\u001b[1;32m----> 1\u001b[1;33m \u001b[0mtype\u001b[0m\u001b[1;33m(\u001b[0m\u001b[0md\u001b[0m\u001b[1;33m.\u001b[0m\u001b[0mthoi_gian\u001b[0m\u001b[1;33m[\u001b[0m\u001b[1;36m0\u001b[0m\u001b[1;33m]\u001b[0m\u001b[1;33m)\u001b[0m\u001b[1;33m.\u001b[0m\u001b[0mdt\u001b[0m\u001b[1;33m.\u001b[0m\u001b[0mhour\u001b[0m\u001b[1;33m\u001b[0m\u001b[1;33m\u001b[0m\u001b[0m\n\u001b[0m",
      "\u001b[1;31mAttributeError\u001b[0m: type object 'datetime.datetime' has no attribute 'dt'"
     ]
    }
   ],
   "source": [
    "type(d.thoi_gian[0]).dt.hour"
   ]
  },
  {
   "cell_type": "code",
   "execution_count": null,
   "metadata": {},
   "outputs": [],
   "source": []
  }
 ],
 "metadata": {
  "interpreter": {
   "hash": "183bbf6827d058c2a2fb0f4acdc0420849dda2b4380af0e437e38c64d798d8b7"
  },
  "kernelspec": {
   "display_name": "Python 3.8.8 ('base')",
   "language": "python",
   "name": "python3"
  },
  "language_info": {
   "codemirror_mode": {
    "name": "ipython",
    "version": 3
   },
   "file_extension": ".py",
   "mimetype": "text/x-python",
   "name": "python",
   "nbconvert_exporter": "python",
   "pygments_lexer": "ipython3",
   "version": "3.8.8"
  },
  "orig_nbformat": 4
 },
 "nbformat": 4,
 "nbformat_minor": 2
}
