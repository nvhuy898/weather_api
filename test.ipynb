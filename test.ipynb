{
 "cells": [
  {
   "cell_type": "code",
   "execution_count": 61,
   "metadata": {},
   "outputs": [],
   "source": [
    "import pandas as pd\n"
   ]
  },
  {
   "cell_type": "code",
   "execution_count": 62,
   "metadata": {},
   "outputs": [
    {
     "data": {
      "text/plain": [
       "{'ID': 1835848,\n",
       " 'ten': 'seoul',\n",
       " 'quoc_gia': 'KR',\n",
       " 'kinh_do': 126.9778,\n",
       " 'vi_do': 37.5683,\n",
       " 'thoi_gian': 'Wed Apr 13 22:02:47 2022',\n",
       " 'nhiet_do': 11.34,\n",
       " 'do_am': 50,\n",
       " 'ap_suat': 1017,\n",
       " 'huong_gio': 100,\n",
       " 'toc_do_gio': 6.69}"
      ]
     },
     "execution_count": 62,
     "metadata": {},
     "output_type": "execute_result"
    }
   ],
   "source": [
    "df=pd.read_csv('weather.csv',index_col=None)\n",
    "kq=df.to_dict('records')[-1]\n",
    "kq"
   ]
  },
  {
   "cell_type": "code",
   "execution_count": 63,
   "metadata": {},
   "outputs": [
    {
     "data": {
      "text/plain": [
       "17"
      ]
     },
     "execution_count": 63,
     "metadata": {},
     "output_type": "execute_result"
    }
   ],
   "source": [
    "t=df.loc[df.ten=='hue']\n",
    "len(t)"
   ]
  },
  {
   "cell_type": "code",
   "execution_count": 7,
   "metadata": {},
   "outputs": [],
   "source": [
    "df.thoi_gian=pd.to_datetime(df.thoi_gian)"
   ]
  },
  {
   "cell_type": "code",
   "execution_count": 64,
   "metadata": {},
   "outputs": [
    {
     "data": {
      "text/plain": [
       "1580240"
      ]
     },
     "execution_count": 64,
     "metadata": {},
     "output_type": "execute_result"
    }
   ],
   "source": [
    "data=df.loc[df.ten=='hue'][-10:]\n",
    "data.ID.unique()[0]"
   ]
  },
  {
   "cell_type": "code",
   "execution_count": 65,
   "metadata": {},
   "outputs": [],
   "source": [
    "def get_data_to_web(city):\n",
    "    data=df.loc[df.ten==city][-10:]\n",
    "    kq={\n",
    "    \"ID\": data.ID.unique()[0],\n",
    "    \"ap_suat\": list(data.ap_suat),\n",
    "    \"do_am\": list(data.do_am),\n",
    "    \"huong_gio\": list(data.huong_gio),\n",
    "    \"kinh_do\": data.kinh_do.unique()[0],\n",
    "    \"nhiet_do\": list(data.nhiet_do),\n",
    "    \"quoc_gia\": data.quoc_gia.unique()[0],\n",
    "    \"ten\": data.ten.unique()[0],\n",
    "    \"thoi_gian\": list(data.thoi_gian),\n",
    "    \"toc_do_gio\": list(data.thoi_gian),\n",
    "    \"vi_do\": data.vi_do.unique()[0]\n",
    "    }\n",
    "    return kq\n",
    "\n"
   ]
  },
  {
   "cell_type": "code",
   "execution_count": 82,
   "metadata": {},
   "outputs": [
    {
     "ename": "TypeError",
     "evalue": "Object of type int64 is not JSON serializable",
     "output_type": "error",
     "traceback": [
      "\u001b[1;31m---------------------------------------------------------------------------\u001b[0m",
      "\u001b[1;31mTypeError\u001b[0m                                 Traceback (most recent call last)",
      "\u001b[1;32m<ipython-input-82-e35b8bf1e7fe>\u001b[0m in \u001b[0;36m<module>\u001b[1;34m\u001b[0m\n\u001b[0;32m      4\u001b[0m     \u001b[1;32mif\u001b[0m \u001b[0misinstance\u001b[0m\u001b[1;33m(\u001b[0m\u001b[0mobject\u001b[0m\u001b[1;33m,\u001b[0m \u001b[0mnp\u001b[0m\u001b[1;33m.\u001b[0m\u001b[0mgeneric\u001b[0m\u001b[1;33m)\u001b[0m\u001b[1;33m:\u001b[0m\u001b[1;33m\u001b[0m\u001b[1;33m\u001b[0m\u001b[0m\n\u001b[0;32m      5\u001b[0m         \u001b[1;32mreturn\u001b[0m \u001b[0mobject\u001b[0m\u001b[1;33m.\u001b[0m\u001b[0mitem\u001b[0m\u001b[1;33m(\u001b[0m\u001b[1;33m)\u001b[0m\u001b[1;33m\u001b[0m\u001b[1;33m\u001b[0m\u001b[0m\n\u001b[1;32m----> 6\u001b[1;33m \u001b[0mjson\u001b[0m\u001b[1;33m.\u001b[0m\u001b[0mdumps\u001b[0m\u001b[1;33m(\u001b[0m\u001b[0mkq\u001b[0m\u001b[1;33m)\u001b[0m\u001b[1;33m\u001b[0m\u001b[1;33m\u001b[0m\u001b[0m\n\u001b[0m",
      "\u001b[1;32m~\\anaconda3\\lib\\json\\__init__.py\u001b[0m in \u001b[0;36mdumps\u001b[1;34m(obj, skipkeys, ensure_ascii, check_circular, allow_nan, cls, indent, separators, default, sort_keys, **kw)\u001b[0m\n\u001b[0;32m    229\u001b[0m         \u001b[0mcls\u001b[0m \u001b[1;32mis\u001b[0m \u001b[1;32mNone\u001b[0m \u001b[1;32mand\u001b[0m \u001b[0mindent\u001b[0m \u001b[1;32mis\u001b[0m \u001b[1;32mNone\u001b[0m \u001b[1;32mand\u001b[0m \u001b[0mseparators\u001b[0m \u001b[1;32mis\u001b[0m \u001b[1;32mNone\u001b[0m \u001b[1;32mand\u001b[0m\u001b[1;33m\u001b[0m\u001b[1;33m\u001b[0m\u001b[0m\n\u001b[0;32m    230\u001b[0m         default is None and not sort_keys and not kw):\n\u001b[1;32m--> 231\u001b[1;33m         \u001b[1;32mreturn\u001b[0m \u001b[0m_default_encoder\u001b[0m\u001b[1;33m.\u001b[0m\u001b[0mencode\u001b[0m\u001b[1;33m(\u001b[0m\u001b[0mobj\u001b[0m\u001b[1;33m)\u001b[0m\u001b[1;33m\u001b[0m\u001b[1;33m\u001b[0m\u001b[0m\n\u001b[0m\u001b[0;32m    232\u001b[0m     \u001b[1;32mif\u001b[0m \u001b[0mcls\u001b[0m \u001b[1;32mis\u001b[0m \u001b[1;32mNone\u001b[0m\u001b[1;33m:\u001b[0m\u001b[1;33m\u001b[0m\u001b[1;33m\u001b[0m\u001b[0m\n\u001b[0;32m    233\u001b[0m         \u001b[0mcls\u001b[0m \u001b[1;33m=\u001b[0m \u001b[0mJSONEncoder\u001b[0m\u001b[1;33m\u001b[0m\u001b[1;33m\u001b[0m\u001b[0m\n",
      "\u001b[1;32m~\\anaconda3\\lib\\json\\encoder.py\u001b[0m in \u001b[0;36mencode\u001b[1;34m(self, o)\u001b[0m\n\u001b[0;32m    197\u001b[0m         \u001b[1;31m# exceptions aren't as detailed.  The list call should be roughly\u001b[0m\u001b[1;33m\u001b[0m\u001b[1;33m\u001b[0m\u001b[1;33m\u001b[0m\u001b[0m\n\u001b[0;32m    198\u001b[0m         \u001b[1;31m# equivalent to the PySequence_Fast that ''.join() would do.\u001b[0m\u001b[1;33m\u001b[0m\u001b[1;33m\u001b[0m\u001b[1;33m\u001b[0m\u001b[0m\n\u001b[1;32m--> 199\u001b[1;33m         \u001b[0mchunks\u001b[0m \u001b[1;33m=\u001b[0m \u001b[0mself\u001b[0m\u001b[1;33m.\u001b[0m\u001b[0miterencode\u001b[0m\u001b[1;33m(\u001b[0m\u001b[0mo\u001b[0m\u001b[1;33m,\u001b[0m \u001b[0m_one_shot\u001b[0m\u001b[1;33m=\u001b[0m\u001b[1;32mTrue\u001b[0m\u001b[1;33m)\u001b[0m\u001b[1;33m\u001b[0m\u001b[1;33m\u001b[0m\u001b[0m\n\u001b[0m\u001b[0;32m    200\u001b[0m         \u001b[1;32mif\u001b[0m \u001b[1;32mnot\u001b[0m \u001b[0misinstance\u001b[0m\u001b[1;33m(\u001b[0m\u001b[0mchunks\u001b[0m\u001b[1;33m,\u001b[0m \u001b[1;33m(\u001b[0m\u001b[0mlist\u001b[0m\u001b[1;33m,\u001b[0m \u001b[0mtuple\u001b[0m\u001b[1;33m)\u001b[0m\u001b[1;33m)\u001b[0m\u001b[1;33m:\u001b[0m\u001b[1;33m\u001b[0m\u001b[1;33m\u001b[0m\u001b[0m\n\u001b[0;32m    201\u001b[0m             \u001b[0mchunks\u001b[0m \u001b[1;33m=\u001b[0m \u001b[0mlist\u001b[0m\u001b[1;33m(\u001b[0m\u001b[0mchunks\u001b[0m\u001b[1;33m)\u001b[0m\u001b[1;33m\u001b[0m\u001b[1;33m\u001b[0m\u001b[0m\n",
      "\u001b[1;32m~\\anaconda3\\lib\\json\\encoder.py\u001b[0m in \u001b[0;36miterencode\u001b[1;34m(self, o, _one_shot)\u001b[0m\n\u001b[0;32m    255\u001b[0m                 \u001b[0mself\u001b[0m\u001b[1;33m.\u001b[0m\u001b[0mkey_separator\u001b[0m\u001b[1;33m,\u001b[0m \u001b[0mself\u001b[0m\u001b[1;33m.\u001b[0m\u001b[0mitem_separator\u001b[0m\u001b[1;33m,\u001b[0m \u001b[0mself\u001b[0m\u001b[1;33m.\u001b[0m\u001b[0msort_keys\u001b[0m\u001b[1;33m,\u001b[0m\u001b[1;33m\u001b[0m\u001b[1;33m\u001b[0m\u001b[0m\n\u001b[0;32m    256\u001b[0m                 self.skipkeys, _one_shot)\n\u001b[1;32m--> 257\u001b[1;33m         \u001b[1;32mreturn\u001b[0m \u001b[0m_iterencode\u001b[0m\u001b[1;33m(\u001b[0m\u001b[0mo\u001b[0m\u001b[1;33m,\u001b[0m \u001b[1;36m0\u001b[0m\u001b[1;33m)\u001b[0m\u001b[1;33m\u001b[0m\u001b[1;33m\u001b[0m\u001b[0m\n\u001b[0m\u001b[0;32m    258\u001b[0m \u001b[1;33m\u001b[0m\u001b[0m\n\u001b[0;32m    259\u001b[0m def _make_iterencode(markers, _default, _encoder, _indent, _floatstr,\n",
      "\u001b[1;32m~\\anaconda3\\lib\\json\\encoder.py\u001b[0m in \u001b[0;36mdefault\u001b[1;34m(self, o)\u001b[0m\n\u001b[0;32m    177\u001b[0m \u001b[1;33m\u001b[0m\u001b[0m\n\u001b[0;32m    178\u001b[0m         \"\"\"\n\u001b[1;32m--> 179\u001b[1;33m         raise TypeError(f'Object of type {o.__class__.__name__} '\n\u001b[0m\u001b[0;32m    180\u001b[0m                         f'is not JSON serializable')\n\u001b[0;32m    181\u001b[0m \u001b[1;33m\u001b[0m\u001b[0m\n",
      "\u001b[1;31mTypeError\u001b[0m: Object of type int64 is not JSON serializable"
     ]
    }
   ],
   "source": [
    "import numpy as np\n",
    "kq=get_data_to_web('hanoi')\n",
    "def np_encoder(object):\n",
    "    if isinstance(object, np.generic):\n",
    "        return object.item()\n",
    "json.dumps(kq)\n"
   ]
  },
  {
   "cell_type": "code",
   "execution_count": 47,
   "metadata": {},
   "outputs": [
    {
     "data": {
      "text/plain": [
       "{'index': 261,\n",
       " 'ID': 1580240.0,\n",
       " 'ap_suat': 1008.0,\n",
       " 'do_am': 88.0,\n",
       " 'huong_gio': 300.0,\n",
       " 'kinh_do': 107.6,\n",
       " 'nhiet_do': 25.06,\n",
       " 'quoc_gia': 'VN',\n",
       " 'ten': 'hue',\n",
       " 'thoi_gian': 'Wed Apr 13 20:45:08 2022',\n",
       " 'toc_do_gio': 1.03,\n",
       " 'vi_do': 16.4667}"
      ]
     },
     "execution_count": 47,
     "metadata": {},
     "output_type": "execute_result"
    }
   ],
   "source": [
    "data=df.loc[df.ten=='hue'][-1:].reset_index() \n",
    "data.to_dict('records')[-1]"
   ]
  },
  {
   "cell_type": "code",
   "execution_count": 76,
   "metadata": {},
   "outputs": [],
   "source": [
    "    js={\n",
    "    \"ID\": 1581130,\n",
    "    \"ten\": \"hanoi\",\n",
    "    \"quoc_gia\": \"VN\",\n",
    "    \"kinh_do\": 105.8412,\n",
    "    \"vi_do\": 21.0245,\n",
    "    \"thoi_gian\": \"Mon Apr 11 22:47:12 2022\",\n",
    "    \"nhiet_do\": 23,\n",
    "    \"do_am\": 82,\n",
    "    \"ap_suat\": 1008,\n",
    "    \"huong_gio\": 150,\n",
    "    \"toc_do_gio\": 3.75\n",
    "    \n",
    "    }"
   ]
  },
  {
   "cell_type": "code",
   "execution_count": 77,
   "metadata": {},
   "outputs": [],
   "source": [
    "import json\n",
    "a=json.dumps(js)"
   ]
  },
  {
   "cell_type": "code",
   "execution_count": 78,
   "metadata": {},
   "outputs": [
    {
     "data": {
      "text/plain": [
       "{'ID': 1581130,\n",
       " 'ten': 'hanoi',\n",
       " 'quoc_gia': 'VN',\n",
       " 'kinh_do': 105.8412,\n",
       " 'vi_do': 21.0245,\n",
       " 'thoi_gian': 'Mon Apr 11 22:47:12 2022',\n",
       " 'nhiet_do': 23,\n",
       " 'do_am': 82,\n",
       " 'ap_suat': 1008,\n",
       " 'huong_gio': 150,\n",
       " 'toc_do_gio': 3.75}"
      ]
     },
     "execution_count": 78,
     "metadata": {},
     "output_type": "execute_result"
    }
   ],
   "source": [
    "json.loads(a)"
   ]
  },
  {
   "cell_type": "code",
   "execution_count": 79,
   "metadata": {},
   "outputs": [],
   "source": [
    "pd.DataFrame(pd.Series(js)).T.to_csv('weather.csv',index=None)"
   ]
  },
  {
   "cell_type": "code",
   "execution_count": 1,
   "metadata": {},
   "outputs": [],
   "source": [
    "import requests"
   ]
  },
  {
   "cell_type": "code",
   "execution_count": 20,
   "metadata": {},
   "outputs": [],
   "source": [
    " city='hanoi'\n",
    " r= requests.request(\"POST\",f\"http://127.0.0.1:9999/get_weather/{city}\" )"
   ]
  },
  {
   "cell_type": "code",
   "execution_count": 22,
   "metadata": {},
   "outputs": [],
   "source": [
    "import json\n",
    "df=json.loads(r.content)"
   ]
  },
  {
   "cell_type": "code",
   "execution_count": 13,
   "metadata": {},
   "outputs": [
    {
     "data": {
      "text/plain": [
       "{'ID': 1581130,\n",
       " 'ap_suat': [1006,\n",
       "  1006,\n",
       "  1006,\n",
       "  1006,\n",
       "  1006,\n",
       "  1006,\n",
       "  1006,\n",
       "  1006,\n",
       "  1006,\n",
       "  1006,\n",
       "  1006,\n",
       "  1006],\n",
       " 'do_am': [47, 47, 47, 47, 47, 47, 47, 47, 47, 47, 47, 47],\n",
       " 'huong_gio': [176, 176, 176, 176, 176, 176, 176, 176, 176, 176, 176, 176],\n",
       " 'kinh_do': 105.8412,\n",
       " 'nhiet_do': [31.0,\n",
       "  31.0,\n",
       "  31.0,\n",
       "  31.0,\n",
       "  31.0,\n",
       "  31.0,\n",
       "  31.0,\n",
       "  31.0,\n",
       "  31.0,\n",
       "  31.0,\n",
       "  31.0,\n",
       "  31.0],\n",
       " 'quoc_gia': 'VN',\n",
       " 'ten': 'hanoi',\n",
       " 'thoi_gian': ['Thu Apr 14 12:54:04 2022',\n",
       "  'Thu Apr 14 12:54:24 2022',\n",
       "  'Thu Apr 14 12:56:04 2022',\n",
       "  'Thu Apr 14 12:56:14 2022',\n",
       "  'Thu Apr 14 12:56:24 2022',\n",
       "  'Thu Apr 14 12:56:54 2022',\n",
       "  'Thu Apr 14 12:57:04 2022',\n",
       "  'Thu Apr 14 12:58:14 2022',\n",
       "  'Thu Apr 14 12:59:04 2022',\n",
       "  'Thu Apr 14 12:59:24 2022',\n",
       "  'Thu Apr 14 12:59:44 2022',\n",
       "  'Thu Apr 14 13:01:04 2022'],\n",
       " 'toc_do_gio': [4.6, 4.6, 4.6, 4.6, 4.6, 4.6, 4.6, 4.6, 4.6, 4.6, 4.6, 4.6],\n",
       " 'vi_do': 21.0245}"
      ]
     },
     "execution_count": 13,
     "metadata": {},
     "output_type": "execute_result"
    }
   ],
   "source": [
    "df"
   ]
  },
  {
   "cell_type": "code",
   "execution_count": 40,
   "metadata": {},
   "outputs": [],
   "source": [
    "import pandas as pd\n",
    "data=pd.DataFrame(df,index=None)\n",
    "data.thoi_gian= pd.to_datetime(data.thoi_gian)"
   ]
  },
  {
   "cell_type": "code",
   "execution_count": 44,
   "metadata": {},
   "outputs": [
    {
     "data": {
      "text/plain": [
       "Timestamp('2022-04-14 13:01:04')"
      ]
     },
     "execution_count": 44,
     "metadata": {},
     "output_type": "execute_result"
    }
   ],
   "source": [
    "(data.thoi_gian)[11]"
   ]
  },
  {
   "cell_type": "code",
   "execution_count": 47,
   "metadata": {},
   "outputs": [
    {
     "data": {
      "text/plain": [
       "'📅 hanoi is : Thursday 2022-04-14 13h'"
      ]
     },
     "execution_count": 47,
     "metadata": {},
     "output_type": "execute_result"
    }
   ],
   "source": [
    "place=city\n",
    "n=len(data)-1\n",
    "f\"📅 {place} is : {data.thoi_gian[n].day_name()} {data.thoi_gian[n].strftime('%Y-%m-%d')} {data.thoi_gian.dt.hour[n]}h\""
   ]
  },
  {
   "cell_type": "code",
   "execution_count": 49,
   "metadata": {},
   "outputs": [
    {
     "data": {
      "text/plain": [
       "0    2022-04-15 00:54:04\n",
       "1    2022-04-15 00:54:24\n",
       "2    2022-04-15 00:56:04\n",
       "3    2022-04-15 00:56:14\n",
       "4    2022-04-15 00:56:24\n",
       "5    2022-04-15 00:56:54\n",
       "6    2022-04-15 00:57:04\n",
       "7    2022-04-15 00:58:14\n",
       "8    2022-04-15 00:59:04\n",
       "9    2022-04-15 00:59:24\n",
       "10   2022-04-15 00:59:44\n",
       "11   2022-04-15 01:01:04\n",
       "Name: thoi_gian, dtype: datetime64[ns]"
      ]
     },
     "execution_count": 49,
     "metadata": {},
     "output_type": "execute_result"
    }
   ],
   "source": [
    "data.thoi_gian+pd.Timedelta(hours=12)"
   ]
  },
  {
   "cell_type": "code",
   "execution_count": 59,
   "metadata": {},
   "outputs": [],
   "source": [
    "import time"
   ]
  },
  {
   "cell_type": "code",
   "execution_count": 67,
   "metadata": {},
   "outputs": [
    {
     "name": "stdout",
     "output_type": "stream",
     "text": [
      "time.struct_time(tm_year=2022, tm_mon=4, tm_mday=14, tm_hour=17, tm_min=10, tm_sec=24, tm_wday=3, tm_yday=104, tm_isdst=0)\n"
     ]
    }
   ],
   "source": [
    "print(time.gmtime())"
   ]
  },
  {
   "cell_type": "code",
   "execution_count": 64,
   "metadata": {},
   "outputs": [
    {
     "data": {
      "text/plain": [
       "17"
      ]
     },
     "execution_count": 64,
     "metadata": {},
     "output_type": "execute_result"
    }
   ],
   "source": [
    "time.gmtime().tm_hour"
   ]
  },
  {
   "cell_type": "code",
   "execution_count": null,
   "metadata": {},
   "outputs": [],
   "source": []
  }
 ],
 "metadata": {
  "interpreter": {
   "hash": "183bbf6827d058c2a2fb0f4acdc0420849dda2b4380af0e437e38c64d798d8b7"
  },
  "kernelspec": {
   "display_name": "Python 3.8.8 ('base')",
   "language": "python",
   "name": "python3"
  },
  "language_info": {
   "codemirror_mode": {
    "name": "ipython",
    "version": 3
   },
   "file_extension": ".py",
   "mimetype": "text/x-python",
   "name": "python",
   "nbconvert_exporter": "python",
   "pygments_lexer": "ipython3",
   "version": "3.8.8"
  },
  "orig_nbformat": 4
 },
 "nbformat": 4,
 "nbformat_minor": 2
}
